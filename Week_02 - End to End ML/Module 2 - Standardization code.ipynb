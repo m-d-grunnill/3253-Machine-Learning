{
 "nbformat": 4,
 "nbformat_minor": 0,
 "metadata": {
  "colab": {
   "name": "Module 2 - Standardization code.ipynb",
   "provenance": [],
   "collapsed_sections": [],
   "authorship_tag": "ABX9TyP6N/O6CogCSVNfekxmnKql"
  },
  "kernelspec": {
   "name": "python3",
   "display_name": "Python 3"
  }
 },
 "cells": [
  {
   "cell_type": "markdown",
   "metadata": {
    "id": "Fvs3HlTqCI3s"
   },
   "source": [
    "## In this code, we explore normalizationa nd standadization techniques in Python"
   ]
  },
  {
   "cell_type": "markdown",
   "metadata": {
    "id": "mGBFAQ7GCZEG"
   },
   "source": [
    "# Mix-Max Normalization"
   ]
  },
  {
   "cell_type": "code",
   "metadata": {
    "id": "rD3dgAEf9pJx",
    "executionInfo": {
     "status": "ok",
     "timestamp": 1601184538242,
     "user_tz": 240,
     "elapsed": 307,
     "user": {
      "displayName": "Saeid Abolfazli",
      "photoUrl": "",
      "userId": "03288941312928329554"
     }
    },
    "outputId": "cdca6ff9-105c-4b54-decd-47589879e626",
    "colab": {
     "base_uri": "https://localhost:8080/",
     "height": 34
    }
   },
   "source": [
    "# Lerts assume here is our dataset\n",
    "x = [[0],[50],[100]]\n",
    "x"
   ],
   "execution_count": 41,
   "outputs": [
    {
     "output_type": "execute_result",
     "data": {
      "text/plain": [
       "[[0], [50], [100]]"
      ]
     },
     "metadata": {
      "tags": []
     },
     "execution_count": 41
    }
   ]
  },
  {
   "cell_type": "code",
   "metadata": {
    "id": "_URBfbFT9q3K",
    "executionInfo": {
     "status": "ok",
     "timestamp": 1601183720496,
     "user_tz": 240,
     "elapsed": 296,
     "user": {
      "displayName": "Saeid Abolfazli",
      "photoUrl": "",
      "userId": "03288941312928329554"
     }
    },
    "outputId": "5dedbc6e-8cd2-40cd-b8ef-8d1b32390ddc",
    "colab": {
     "base_uri": "https://localhost:8080/",
     "height": 67
    }
   },
   "source": [
    "#import MinMaxscaler\n",
    "from sklearn.preprocessing import MinMaxScaler\n",
    "\n",
    "#create scaler object\n",
    "scaler = MinMaxScaler()\n",
    "\n",
    "# fit scaler object\n",
    "scaler.fit(x)\n",
    "\n",
    "#now, we can transform x using the trained/fitted scaler\n",
    "x_scaled = scaler.transform(x)\n",
    "print(x_scaled)"
   ],
   "execution_count": null,
   "outputs": [
    {
     "output_type": "stream",
     "text": [
      "[[0. ]\n",
      " [0.5]\n",
      " [1. ]]\n"
     ],
     "name": "stdout"
    }
   ]
  },
  {
   "cell_type": "markdown",
   "metadata": {
    "id": "_RmNDGljCgHg"
   },
   "source": [
    "# Standardization or Standard Scaling"
   ]
  },
  {
   "cell_type": "code",
   "metadata": {
    "id": "PfCD8ki69xu6",
    "executionInfo": {
     "status": "ok",
     "timestamp": 1601184626099,
     "user_tz": 240,
     "elapsed": 245,
     "user": {
      "displayName": "Saeid Abolfazli",
      "photoUrl": "",
      "userId": "03288941312928329554"
     }
    },
    "outputId": "683552d2-7db0-489c-c355-15fd4bcadd78",
    "colab": {
     "base_uri": "https://localhost:8080/",
     "height": 34
    }
   },
   "source": [
    "# Assume x is our data\n",
    "x = [[0],[50],[100]]\n",
    "x"
   ],
   "execution_count": 43,
   "outputs": [
    {
     "output_type": "execute_result",
     "data": {
      "text/plain": [
       "[[0], [50], [100]]"
      ]
     },
     "metadata": {
      "tags": []
     },
     "execution_count": 43
    }
   ]
  },
  {
   "cell_type": "code",
   "metadata": {
    "id": "x3H1NPsc99sg",
    "executionInfo": {
     "status": "ok",
     "timestamp": 1601184682940,
     "user_tz": 240,
     "elapsed": 260,
     "user": {
      "displayName": "Saeid Abolfazli",
      "photoUrl": "",
      "userId": "03288941312928329554"
     }
    },
    "outputId": "b9fdcee6-805c-4d1d-e608-22838a7781d5",
    "colab": {
     "base_uri": "https://localhost:8080/",
     "height": 67
    }
   },
   "source": [
    "# import StandardScaler\n",
    "from sklearn.preprocessing import StandardScaler\n",
    "\n",
    "# create StandardScaler as standardscaler object\n",
    "StandardScaler = StandardScaler()\n",
    "\n",
    "# fit_transform newly created StandardScaler object using our dataset\n",
    "x_ss = StandardScaler.fit_transform(x)\n",
    "x_ss"
   ],
   "execution_count": 44,
   "outputs": [
    {
     "output_type": "execute_result",
     "data": {
      "text/plain": [
       "array([[-1.22474487],\n",
       "       [ 0.        ],\n",
       "       [ 1.22474487]])"
      ]
     },
     "metadata": {
      "tags": []
     },
     "execution_count": 44
    }
   ]
  },
  {
   "cell_type": "code",
   "metadata": {
    "id": "j9s9h8w9-qlt",
    "executionInfo": {
     "status": "ok",
     "timestamp": 1601184783979,
     "user_tz": 240,
     "elapsed": 206,
     "user": {
      "displayName": "Saeid Abolfazli",
      "photoUrl": "",
      "userId": "03288941312928329554"
     }
    },
    "outputId": "71cdbf58-5fc7-437f-d2c1-c98db5476868",
    "colab": {
     "base_uri": "https://localhost:8080/",
     "height": 34
    }
   },
   "source": [
    "#lets verify if promise of standard scaling is fulfilled.\n",
    "# Scaled dataset should have mean of 0 and sd of 1\n",
    "import numpy\n",
    "print(\"mean is:\", numpy.mean(x_ss) , \"and sd is:\", numpy.std(x_ss))\n",
    "\n"
   ],
   "execution_count": 51,
   "outputs": [
    {
     "output_type": "stream",
     "text": [
      "mean is: 0.0 and sd is: 0.9999999999999999\n"
     ],
     "name": "stdout"
    }
   ]
  },
  {
   "cell_type": "code",
   "metadata": {
    "id": "4DpnAIxaAa93"
   },
   "source": [],
   "execution_count": null,
   "outputs": []
  }
 ]
}
