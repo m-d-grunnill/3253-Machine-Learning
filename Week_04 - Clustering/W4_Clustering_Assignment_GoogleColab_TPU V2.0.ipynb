{
  "nbformat": 4,
  "nbformat_minor": 0,
  "metadata": {
    "colab": {
      "name": "W4_Clustering_Assignment_GoogleColab_TPU V2.0.ipynb",
      "provenance": []
    },
    "kernelspec": {
      "name": "python3",
      "display_name": "Python 3"
    },
    "accelerator": "TPU"
  },
  "cells": [
    {
      "cell_type": "markdown",
      "metadata": {
        "id": "9FccDrj3eFs5"
      },
      "source": [
        "# Important Notes:\n",
        "\n",
        "---\n",
        "1- Due to file size, you are unable to run this notebook using default runtime setting. You need to switch to TPU or GPU to be able to import data.  Learn more about TPU (Tensorflow Processing Unit) or GPU  [here](https://en.wikipedia.org/wiki/Tensor_processing_unit)  and  [here](https://en.wikipedia.org/wiki/Graphics_processing_unit) respectively. You can see the benfit of TPU [here](https://cloud.google.com/tpu/))\n",
        "\n",
        "# Follow below steps to change your default runtime:\n",
        "* From menu bar, open \"Runtime\"\n",
        "* Navigate to \"Change Runtime Type\"\n",
        "\n",
        "[See this screenshot](https://drive.google.com/open?id=1up4zIBrXk6P0eNcQIZ5MxygN6A8TWB0s)\n",
        "* And change your \"Hardware Accelerator\" to \"TPU\" or \"GPU\"\n",
        "* Hit \"Save\"\n",
        "\n",
        "\n",
        "---\n",
        "\n",
        "\n",
        "2- Do not make direct changes into this file. Create your own file. How? Follow below instructions\n",
        "\n",
        "**Instructios to create your copy**\n",
        "\n",
        "*   From this Notebook, go to **\"File\"**  menu\n",
        "*   select \"**Save a copy in Drive**\".\n",
        "*   Find the file in your \"**Colab Notebook**\" folders in your Google Drive root\n",
        "*   Create a copy for yourself by right clicking on the file name and selecting \"**Make a COPY**\"\n",
        "*   Rename it by replacing your last name and UTORid and move the notebook if you need. Develop the code.\n",
        "*   Once you finish the code, get shareable URL (use this  [Guide ](https://support.google.com/drive/answer/2494822?co=GENIE.Platform%3DDesktop&hl=en)  from Google if you need for your notebook and submit it as part of your assignment submission.\n",
        "\n",
        "Make sure I have Edit access to your notebook when sharing so I can leave remarks if needed.\n",
        "\n",
        "Once complete this notebook, respond to the questions in the Quiz section"
      ]
    },
    {
      "cell_type": "markdown",
      "metadata": {
        "id": "RSr7h-pNeFs6"
      },
      "source": [
        "# Assignment for Module 4: Clustering\n",
        "\n",
        "## Description\n",
        "\n",
        "In this assignment you will study the electric demand (power) of clients in Portugal, during 2013 and 2014.\n",
        "\n",
        "The data$^1$ available contains 370 time series, corresponding to the electric demand$^2$ for 370 clients, between 2011 and 2014.\n",
        "\n",
        "In this guided exercise you will use clustering techniques to understand the typical behaviour during 2013-2014.\n",
        "\n",
        "#### 1. Data:\n",
        "https://archive.ics.uci.edu/ml/datasets/ElectricityLoadDiagrams20112014#\n"
      ]
    },
    {
      "cell_type": "markdown",
      "metadata": {
        "id": "y31sswSReFs7"
      },
      "source": [
        "## Data Preparation\n",
        "\n",
        "Start by downloading the data to a local directory and modify the \"pathToFile\" and \"fileName\" variables, if needed\n",
        "\n",
        "### Import CSV into Google Colab.\n",
        "If you do not remember how, you can refer to this document"
      ]
    },
    {
      "cell_type": "code",
      "metadata": {
        "id": "uNUHOfAReFs-",
        "colab": {
          "base_uri": "https://localhost:8080/"
        },
        "outputId": "7d1fe506-09ef-4096-b1d5-e3baaf9d6588"
      },
      "source": [
        "import numpy as np\n",
        "from sklearn.cluster import KMeans\n",
        "import matplotlib.pyplot as plt\n",
        "import random\n",
        "from sklearn.metrics import silhouette_score\n",
        "from sklearn.cluster import AgglomerativeClustering\n",
        "random.seed(42)\n",
        "\n",
        "#Mount your Google drive so you can read them easily\n",
        "from google.colab import drive\n",
        "drive.mount('/content/gdrive')"
      ],
      "execution_count": 1,
      "outputs": [
        {
          "output_type": "stream",
          "name": "stdout",
          "text": [
            "Mounted at /content/gdrive\n"
          ]
        }
      ]
    },
    {
      "cell_type": "markdown",
      "source": [
        "# Data Source\n"
      ],
      "metadata": {
        "id": "u207RrjK5A5Q"
      }
    },
    {
      "cell_type": "code",
      "metadata": {
        "id": "qdHJIAmjeFtA"
      },
      "source": [
        "import fileinput\n",
        "\n",
        "#STEP 1: Download data file from server (https://archive.ics.uci.edu/ml/machine-learning-databases/00321/LD2011_2014.txt.zip)\n",
        "#STEP 2: Unzip the file and upload it to your Google Drive - Remember where you stored it\n",
        "\n",
        "#Update below address to point to your google drive\n",
        "filePath =\"/content/gdrive/MyDrive/3253-Machine-Learning/Week 4/LD2011_2014.txt\"\n"
      ],
      "execution_count": 2,
      "outputs": []
    },
    {
      "cell_type": "code",
      "metadata": {
        "id": "pnyFLwDLeFtD"
      },
      "source": [
        "# Create dataframe\n",
        "import pandas as pd\n",
        "data = pd.read_csv(filePath, sep=\";\", low_memory=False, index_col=0, decimal=',')"
      ],
      "execution_count": 3,
      "outputs": []
    },
    {
      "cell_type": "code",
      "metadata": {
        "id": "R_Tg4zRoOqHm",
        "colab": {
          "base_uri": "https://localhost:8080/"
        },
        "outputId": "0296fa67-de49-4ef6-c02d-001b0fed8019"
      },
      "source": [
        "# To ensure you have the right data, make sure your data.shape output is (140256, 370).\n",
        "# Otherwise, you data file is corrupt and have to read data again. Copy the original file from Saeid's shared Google Drive and run the code again.\n",
        "data.shape\n"
      ],
      "execution_count": 4,
      "outputs": [
        {
          "output_type": "execute_result",
          "data": {
            "text/plain": [
              "(140256, 370)"
            ]
          },
          "metadata": {},
          "execution_count": 4
        }
      ]
    },
    {
      "cell_type": "code",
      "source": [
        "data.columns"
      ],
      "metadata": {
        "colab": {
          "base_uri": "https://localhost:8080/"
        },
        "id": "iXMaJbNJhV_D",
        "outputId": "9b5e7fea-0a55-496c-9e17-3ae571be48c7"
      },
      "execution_count": 5,
      "outputs": [
        {
          "output_type": "execute_result",
          "data": {
            "text/plain": [
              "Index(['MT_001', 'MT_002', 'MT_003', 'MT_004', 'MT_005', 'MT_006', 'MT_007',\n",
              "       'MT_008', 'MT_009', 'MT_010',\n",
              "       ...\n",
              "       'MT_361', 'MT_362', 'MT_363', 'MT_364', 'MT_365', 'MT_366', 'MT_367',\n",
              "       'MT_368', 'MT_369', 'MT_370'],\n",
              "      dtype='object', length=370)"
            ]
          },
          "metadata": {},
          "execution_count": 5
        }
      ]
    },
    {
      "cell_type": "code",
      "metadata": {
        "id": "vwxoS-0ECCu1",
        "colab": {
          "base_uri": "https://localhost:8080/"
        },
        "outputId": "3eac2118-6a4d-4975-b9ee-9f224d8c2bb7"
      },
      "source": [
        "# Write the code to answer Question1 in assignment 4\n",
        "data.iloc[:,256].mean()\n"
      ],
      "execution_count": 6,
      "outputs": [
        {
          "output_type": "execute_result",
          "data": {
            "text/plain": [
              "156.41463973047266"
            ]
          },
          "metadata": {},
          "execution_count": 6
        }
      ]
    },
    {
      "cell_type": "markdown",
      "metadata": {
        "id": "SJSKGse4eFtF"
      },
      "source": [
        "### Quick data inspection"
      ]
    },
    {
      "cell_type": "code",
      "metadata": {
        "id": "MC__WXumeFtJ",
        "colab": {
          "base_uri": "https://localhost:8080/",
          "height": 196
        },
        "outputId": "8a8b4435-f4cd-446d-d504-ce56de56e085"
      },
      "source": [
        "data.tail(2)"
      ],
      "execution_count": 7,
      "outputs": [
        {
          "output_type": "execute_result",
          "data": {
            "text/plain": [
              "                       MT_001     MT_002    MT_003      MT_004     MT_005  \\\n",
              "2014-12-31 23:45:00  1.269036  21.337127  1.737619  166.666667  85.365854   \n",
              "2015-01-01 00:00:00  2.538071  19.914651  1.737619  178.861789  84.146341   \n",
              "\n",
              "                         MT_006    MT_007      MT_008     MT_009     MT_010  \\\n",
              "2014-12-31 23:45:00  285.714286  10.17524  225.589226  64.685315  72.043011   \n",
              "2015-01-01 00:00:00  279.761905  10.17524  249.158249  62.937063  69.892473   \n",
              "\n",
              "                     ...      MT_361   MT_362       MT_363      MT_364  \\\n",
              "2014-12-31 23:45:00  ...  246.252677  28000.0  1443.037975  909.090909   \n",
              "2015-01-01 00:00:00  ...  188.436831  27800.0  1409.282700  954.545455   \n",
              "\n",
              "                        MT_365    MT_366      MT_367      MT_368      MT_369  \\\n",
              "2014-12-31 23:45:00  26.075619  4.095963  664.618086  146.911519  646.627566   \n",
              "2015-01-01 00:00:00  27.379400  4.095963  628.621598  131.886477  673.020528   \n",
              "\n",
              "                          MT_370  \n",
              "2014-12-31 23:45:00  6540.540541  \n",
              "2015-01-01 00:00:00  7135.135135  \n",
              "\n",
              "[2 rows x 370 columns]"
            ],
            "text/html": [
              "\n",
              "  <div id=\"df-e0ff3632-7185-4766-ae40-a46624d1ac07\" class=\"colab-df-container\">\n",
              "    <div>\n",
              "<style scoped>\n",
              "    .dataframe tbody tr th:only-of-type {\n",
              "        vertical-align: middle;\n",
              "    }\n",
              "\n",
              "    .dataframe tbody tr th {\n",
              "        vertical-align: top;\n",
              "    }\n",
              "\n",
              "    .dataframe thead th {\n",
              "        text-align: right;\n",
              "    }\n",
              "</style>\n",
              "<table border=\"1\" class=\"dataframe\">\n",
              "  <thead>\n",
              "    <tr style=\"text-align: right;\">\n",
              "      <th></th>\n",
              "      <th>MT_001</th>\n",
              "      <th>MT_002</th>\n",
              "      <th>MT_003</th>\n",
              "      <th>MT_004</th>\n",
              "      <th>MT_005</th>\n",
              "      <th>MT_006</th>\n",
              "      <th>MT_007</th>\n",
              "      <th>MT_008</th>\n",
              "      <th>MT_009</th>\n",
              "      <th>MT_010</th>\n",
              "      <th>...</th>\n",
              "      <th>MT_361</th>\n",
              "      <th>MT_362</th>\n",
              "      <th>MT_363</th>\n",
              "      <th>MT_364</th>\n",
              "      <th>MT_365</th>\n",
              "      <th>MT_366</th>\n",
              "      <th>MT_367</th>\n",
              "      <th>MT_368</th>\n",
              "      <th>MT_369</th>\n",
              "      <th>MT_370</th>\n",
              "    </tr>\n",
              "  </thead>\n",
              "  <tbody>\n",
              "    <tr>\n",
              "      <th>2014-12-31 23:45:00</th>\n",
              "      <td>1.269036</td>\n",
              "      <td>21.337127</td>\n",
              "      <td>1.737619</td>\n",
              "      <td>166.666667</td>\n",
              "      <td>85.365854</td>\n",
              "      <td>285.714286</td>\n",
              "      <td>10.17524</td>\n",
              "      <td>225.589226</td>\n",
              "      <td>64.685315</td>\n",
              "      <td>72.043011</td>\n",
              "      <td>...</td>\n",
              "      <td>246.252677</td>\n",
              "      <td>28000.0</td>\n",
              "      <td>1443.037975</td>\n",
              "      <td>909.090909</td>\n",
              "      <td>26.075619</td>\n",
              "      <td>4.095963</td>\n",
              "      <td>664.618086</td>\n",
              "      <td>146.911519</td>\n",
              "      <td>646.627566</td>\n",
              "      <td>6540.540541</td>\n",
              "    </tr>\n",
              "    <tr>\n",
              "      <th>2015-01-01 00:00:00</th>\n",
              "      <td>2.538071</td>\n",
              "      <td>19.914651</td>\n",
              "      <td>1.737619</td>\n",
              "      <td>178.861789</td>\n",
              "      <td>84.146341</td>\n",
              "      <td>279.761905</td>\n",
              "      <td>10.17524</td>\n",
              "      <td>249.158249</td>\n",
              "      <td>62.937063</td>\n",
              "      <td>69.892473</td>\n",
              "      <td>...</td>\n",
              "      <td>188.436831</td>\n",
              "      <td>27800.0</td>\n",
              "      <td>1409.282700</td>\n",
              "      <td>954.545455</td>\n",
              "      <td>27.379400</td>\n",
              "      <td>4.095963</td>\n",
              "      <td>628.621598</td>\n",
              "      <td>131.886477</td>\n",
              "      <td>673.020528</td>\n",
              "      <td>7135.135135</td>\n",
              "    </tr>\n",
              "  </tbody>\n",
              "</table>\n",
              "<p>2 rows × 370 columns</p>\n",
              "</div>\n",
              "    <div class=\"colab-df-buttons\">\n",
              "\n",
              "  <div class=\"colab-df-container\">\n",
              "    <button class=\"colab-df-convert\" onclick=\"convertToInteractive('df-e0ff3632-7185-4766-ae40-a46624d1ac07')\"\n",
              "            title=\"Convert this dataframe to an interactive table.\"\n",
              "            style=\"display:none;\">\n",
              "\n",
              "  <svg xmlns=\"http://www.w3.org/2000/svg\" height=\"24px\" viewBox=\"0 -960 960 960\">\n",
              "    <path d=\"M120-120v-720h720v720H120Zm60-500h600v-160H180v160Zm220 220h160v-160H400v160Zm0 220h160v-160H400v160ZM180-400h160v-160H180v160Zm440 0h160v-160H620v160ZM180-180h160v-160H180v160Zm440 0h160v-160H620v160Z\"/>\n",
              "  </svg>\n",
              "    </button>\n",
              "\n",
              "  <style>\n",
              "    .colab-df-container {\n",
              "      display:flex;\n",
              "      gap: 12px;\n",
              "    }\n",
              "\n",
              "    .colab-df-convert {\n",
              "      background-color: #E8F0FE;\n",
              "      border: none;\n",
              "      border-radius: 50%;\n",
              "      cursor: pointer;\n",
              "      display: none;\n",
              "      fill: #1967D2;\n",
              "      height: 32px;\n",
              "      padding: 0 0 0 0;\n",
              "      width: 32px;\n",
              "    }\n",
              "\n",
              "    .colab-df-convert:hover {\n",
              "      background-color: #E2EBFA;\n",
              "      box-shadow: 0px 1px 2px rgba(60, 64, 67, 0.3), 0px 1px 3px 1px rgba(60, 64, 67, 0.15);\n",
              "      fill: #174EA6;\n",
              "    }\n",
              "\n",
              "    .colab-df-buttons div {\n",
              "      margin-bottom: 4px;\n",
              "    }\n",
              "\n",
              "    [theme=dark] .colab-df-convert {\n",
              "      background-color: #3B4455;\n",
              "      fill: #D2E3FC;\n",
              "    }\n",
              "\n",
              "    [theme=dark] .colab-df-convert:hover {\n",
              "      background-color: #434B5C;\n",
              "      box-shadow: 0px 1px 3px 1px rgba(0, 0, 0, 0.15);\n",
              "      filter: drop-shadow(0px 1px 2px rgba(0, 0, 0, 0.3));\n",
              "      fill: #FFFFFF;\n",
              "    }\n",
              "  </style>\n",
              "\n",
              "    <script>\n",
              "      const buttonEl =\n",
              "        document.querySelector('#df-e0ff3632-7185-4766-ae40-a46624d1ac07 button.colab-df-convert');\n",
              "      buttonEl.style.display =\n",
              "        google.colab.kernel.accessAllowed ? 'block' : 'none';\n",
              "\n",
              "      async function convertToInteractive(key) {\n",
              "        const element = document.querySelector('#df-e0ff3632-7185-4766-ae40-a46624d1ac07');\n",
              "        const dataTable =\n",
              "          await google.colab.kernel.invokeFunction('convertToInteractive',\n",
              "                                                    [key], {});\n",
              "        if (!dataTable) return;\n",
              "\n",
              "        const docLinkHtml = 'Like what you see? Visit the ' +\n",
              "          '<a target=\"_blank\" href=https://colab.research.google.com/notebooks/data_table.ipynb>data table notebook</a>'\n",
              "          + ' to learn more about interactive tables.';\n",
              "        element.innerHTML = '';\n",
              "        dataTable['output_type'] = 'display_data';\n",
              "        await google.colab.output.renderOutput(dataTable, element);\n",
              "        const docLink = document.createElement('div');\n",
              "        docLink.innerHTML = docLinkHtml;\n",
              "        element.appendChild(docLink);\n",
              "      }\n",
              "    </script>\n",
              "  </div>\n",
              "\n",
              "\n",
              "<div id=\"df-4b526ba5-a877-457b-ac51-f3431f899d1c\">\n",
              "  <button class=\"colab-df-quickchart\" onclick=\"quickchart('df-4b526ba5-a877-457b-ac51-f3431f899d1c')\"\n",
              "            title=\"Suggest charts.\"\n",
              "            style=\"display:none;\">\n",
              "\n",
              "<svg xmlns=\"http://www.w3.org/2000/svg\" height=\"24px\"viewBox=\"0 0 24 24\"\n",
              "     width=\"24px\">\n",
              "    <g>\n",
              "        <path d=\"M19 3H5c-1.1 0-2 .9-2 2v14c0 1.1.9 2 2 2h14c1.1 0 2-.9 2-2V5c0-1.1-.9-2-2-2zM9 17H7v-7h2v7zm4 0h-2V7h2v10zm4 0h-2v-4h2v4z\"/>\n",
              "    </g>\n",
              "</svg>\n",
              "  </button>\n",
              "\n",
              "<style>\n",
              "  .colab-df-quickchart {\n",
              "      --bg-color: #E8F0FE;\n",
              "      --fill-color: #1967D2;\n",
              "      --hover-bg-color: #E2EBFA;\n",
              "      --hover-fill-color: #174EA6;\n",
              "      --disabled-fill-color: #AAA;\n",
              "      --disabled-bg-color: #DDD;\n",
              "  }\n",
              "\n",
              "  [theme=dark] .colab-df-quickchart {\n",
              "      --bg-color: #3B4455;\n",
              "      --fill-color: #D2E3FC;\n",
              "      --hover-bg-color: #434B5C;\n",
              "      --hover-fill-color: #FFFFFF;\n",
              "      --disabled-bg-color: #3B4455;\n",
              "      --disabled-fill-color: #666;\n",
              "  }\n",
              "\n",
              "  .colab-df-quickchart {\n",
              "    background-color: var(--bg-color);\n",
              "    border: none;\n",
              "    border-radius: 50%;\n",
              "    cursor: pointer;\n",
              "    display: none;\n",
              "    fill: var(--fill-color);\n",
              "    height: 32px;\n",
              "    padding: 0;\n",
              "    width: 32px;\n",
              "  }\n",
              "\n",
              "  .colab-df-quickchart:hover {\n",
              "    background-color: var(--hover-bg-color);\n",
              "    box-shadow: 0 1px 2px rgba(60, 64, 67, 0.3), 0 1px 3px 1px rgba(60, 64, 67, 0.15);\n",
              "    fill: var(--button-hover-fill-color);\n",
              "  }\n",
              "\n",
              "  .colab-df-quickchart-complete:disabled,\n",
              "  .colab-df-quickchart-complete:disabled:hover {\n",
              "    background-color: var(--disabled-bg-color);\n",
              "    fill: var(--disabled-fill-color);\n",
              "    box-shadow: none;\n",
              "  }\n",
              "\n",
              "  .colab-df-spinner {\n",
              "    border: 2px solid var(--fill-color);\n",
              "    border-color: transparent;\n",
              "    border-bottom-color: var(--fill-color);\n",
              "    animation:\n",
              "      spin 1s steps(1) infinite;\n",
              "  }\n",
              "\n",
              "  @keyframes spin {\n",
              "    0% {\n",
              "      border-color: transparent;\n",
              "      border-bottom-color: var(--fill-color);\n",
              "      border-left-color: var(--fill-color);\n",
              "    }\n",
              "    20% {\n",
              "      border-color: transparent;\n",
              "      border-left-color: var(--fill-color);\n",
              "      border-top-color: var(--fill-color);\n",
              "    }\n",
              "    30% {\n",
              "      border-color: transparent;\n",
              "      border-left-color: var(--fill-color);\n",
              "      border-top-color: var(--fill-color);\n",
              "      border-right-color: var(--fill-color);\n",
              "    }\n",
              "    40% {\n",
              "      border-color: transparent;\n",
              "      border-right-color: var(--fill-color);\n",
              "      border-top-color: var(--fill-color);\n",
              "    }\n",
              "    60% {\n",
              "      border-color: transparent;\n",
              "      border-right-color: var(--fill-color);\n",
              "    }\n",
              "    80% {\n",
              "      border-color: transparent;\n",
              "      border-right-color: var(--fill-color);\n",
              "      border-bottom-color: var(--fill-color);\n",
              "    }\n",
              "    90% {\n",
              "      border-color: transparent;\n",
              "      border-bottom-color: var(--fill-color);\n",
              "    }\n",
              "  }\n",
              "</style>\n",
              "\n",
              "  <script>\n",
              "    async function quickchart(key) {\n",
              "      const quickchartButtonEl =\n",
              "        document.querySelector('#' + key + ' button');\n",
              "      quickchartButtonEl.disabled = true;  // To prevent multiple clicks.\n",
              "      quickchartButtonEl.classList.add('colab-df-spinner');\n",
              "      try {\n",
              "        const charts = await google.colab.kernel.invokeFunction(\n",
              "            'suggestCharts', [key], {});\n",
              "      } catch (error) {\n",
              "        console.error('Error during call to suggestCharts:', error);\n",
              "      }\n",
              "      quickchartButtonEl.classList.remove('colab-df-spinner');\n",
              "      quickchartButtonEl.classList.add('colab-df-quickchart-complete');\n",
              "    }\n",
              "    (() => {\n",
              "      let quickchartButtonEl =\n",
              "        document.querySelector('#df-4b526ba5-a877-457b-ac51-f3431f899d1c button');\n",
              "      quickchartButtonEl.style.display =\n",
              "        google.colab.kernel.accessAllowed ? 'block' : 'none';\n",
              "    })();\n",
              "  </script>\n",
              "</div>\n",
              "    </div>\n",
              "  </div>\n"
            ]
          },
          "metadata": {},
          "execution_count": 7
        }
      ]
    },
    {
      "cell_type": "markdown",
      "metadata": {
        "id": "dyGX5NNVeFtP"
      },
      "source": [
        "#### As can be seen, the dataframe contains a row for each interval of 15 minutes between Jan 1, 2011 to Dec 31 2014. There are 370 columns corresponding 370 clients. The dataframe is indexed by the timestamp.\n",
        "\n",
        "Since the frequency is 15 minutes, each day provides $24\\times 4 = 96$ datapoints, which multiplied by 365 days and 4 years (plus 1 day in Feb 29, 2012) gives: $96 \\times 365 \\times 4 + 96 = 140256$, as observed in data.shape"
      ]
    },
    {
      "cell_type": "code",
      "metadata": {
        "id": "WCtWFf9BeFtS",
        "colab": {
          "base_uri": "https://localhost:8080/",
          "height": 349
        },
        "outputId": "c9658ae3-4d4a-41fd-d758-63d516ebf5ae"
      },
      "source": [
        "data.describe()"
      ],
      "execution_count": 8,
      "outputs": [
        {
          "output_type": "execute_result",
          "data": {
            "text/plain": [
              "              MT_001         MT_002         MT_003         MT_004  \\\n",
              "count  140256.000000  140256.000000  140256.000000  140256.000000   \n",
              "mean        3.970785      20.768480       2.918308      82.184490   \n",
              "std         5.983965      13.272415      11.014456      58.248392   \n",
              "min         0.000000       0.000000       0.000000       0.000000   \n",
              "25%         0.000000       2.844950       0.000000      36.585366   \n",
              "50%         1.269036      24.893314       1.737619      87.398374   \n",
              "75%         2.538071      29.871977       1.737619     115.853659   \n",
              "max        48.223350     115.220484     151.172893     321.138211   \n",
              "\n",
              "              MT_005         MT_006         MT_007         MT_008  \\\n",
              "count  140256.000000  140256.000000  140256.000000  140256.000000   \n",
              "mean       37.240309     141.227385       4.521338     191.401476   \n",
              "std        26.461327      98.439984       6.485684     121.981187   \n",
              "min         0.000000       0.000000       0.000000       0.000000   \n",
              "25%        15.853659      71.428571       0.565291     111.111111   \n",
              "50%        39.024390     157.738095       2.826456     222.222222   \n",
              "75%        54.878049     205.357143       4.522329     279.461279   \n",
              "max       150.000000     535.714286      44.657999     552.188552   \n",
              "\n",
              "              MT_009         MT_010  ...         MT_361         MT_362  \\\n",
              "count  140256.000000  140256.000000  ...  140256.000000  140256.000000   \n",
              "mean       39.975354      42.205152  ...     218.213701   37607.987537   \n",
              "std        29.814595      33.401251  ...     204.833532   38691.954832   \n",
              "min         0.000000       0.000000  ...       0.000000       0.000000   \n",
              "25%        13.986014       9.677419  ...       5.710207       0.000000   \n",
              "50%        40.209790      40.860215  ...     131.334761   24100.000000   \n",
              "75%        57.692308      61.290323  ...     403.283369   54800.000000   \n",
              "max       157.342657     198.924731  ...     852.962170  192800.000000   \n",
              "\n",
              "              MT_363         MT_364         MT_365         MT_366  \\\n",
              "count  140256.000000  140256.000000  140256.000000  140256.000000   \n",
              "mean     1887.427366    2940.031734      65.413150       9.269709   \n",
              "std      1801.486488    2732.251967      65.007818      10.016782   \n",
              "min         0.000000       0.000000       0.000000       0.000000   \n",
              "25%         0.000000       0.000000      13.037810       0.000000   \n",
              "50%      1050.632911    2136.363636      31.290743       7.021650   \n",
              "75%      3312.236287    5363.636364     108.213820      11.702750   \n",
              "max      7751.054852   12386.363636     335.071708      60.269163   \n",
              "\n",
              "              MT_367         MT_368         MT_369         MT_370  \n",
              "count  140256.000000  140256.000000  140256.000000  140256.000000  \n",
              "mean      424.262904      94.704717     625.251734    8722.355145  \n",
              "std       274.337122      80.297301     380.656042    9195.155777  \n",
              "min         0.000000       0.000000       0.000000       0.000000  \n",
              "25%         0.000000      30.050083      83.944282       0.000000  \n",
              "50%       525.899912      76.794658     758.064516       0.000000  \n",
              "75%       627.743635     151.919866     875.366569   17783.783784  \n",
              "max      1138.718174     362.270451    1549.120235   30918.918919  \n",
              "\n",
              "[8 rows x 370 columns]"
            ],
            "text/html": [
              "\n",
              "  <div id=\"df-6328a498-b8f5-411c-ad4f-3f5d55a39b17\" class=\"colab-df-container\">\n",
              "    <div>\n",
              "<style scoped>\n",
              "    .dataframe tbody tr th:only-of-type {\n",
              "        vertical-align: middle;\n",
              "    }\n",
              "\n",
              "    .dataframe tbody tr th {\n",
              "        vertical-align: top;\n",
              "    }\n",
              "\n",
              "    .dataframe thead th {\n",
              "        text-align: right;\n",
              "    }\n",
              "</style>\n",
              "<table border=\"1\" class=\"dataframe\">\n",
              "  <thead>\n",
              "    <tr style=\"text-align: right;\">\n",
              "      <th></th>\n",
              "      <th>MT_001</th>\n",
              "      <th>MT_002</th>\n",
              "      <th>MT_003</th>\n",
              "      <th>MT_004</th>\n",
              "      <th>MT_005</th>\n",
              "      <th>MT_006</th>\n",
              "      <th>MT_007</th>\n",
              "      <th>MT_008</th>\n",
              "      <th>MT_009</th>\n",
              "      <th>MT_010</th>\n",
              "      <th>...</th>\n",
              "      <th>MT_361</th>\n",
              "      <th>MT_362</th>\n",
              "      <th>MT_363</th>\n",
              "      <th>MT_364</th>\n",
              "      <th>MT_365</th>\n",
              "      <th>MT_366</th>\n",
              "      <th>MT_367</th>\n",
              "      <th>MT_368</th>\n",
              "      <th>MT_369</th>\n",
              "      <th>MT_370</th>\n",
              "    </tr>\n",
              "  </thead>\n",
              "  <tbody>\n",
              "    <tr>\n",
              "      <th>count</th>\n",
              "      <td>140256.000000</td>\n",
              "      <td>140256.000000</td>\n",
              "      <td>140256.000000</td>\n",
              "      <td>140256.000000</td>\n",
              "      <td>140256.000000</td>\n",
              "      <td>140256.000000</td>\n",
              "      <td>140256.000000</td>\n",
              "      <td>140256.000000</td>\n",
              "      <td>140256.000000</td>\n",
              "      <td>140256.000000</td>\n",
              "      <td>...</td>\n",
              "      <td>140256.000000</td>\n",
              "      <td>140256.000000</td>\n",
              "      <td>140256.000000</td>\n",
              "      <td>140256.000000</td>\n",
              "      <td>140256.000000</td>\n",
              "      <td>140256.000000</td>\n",
              "      <td>140256.000000</td>\n",
              "      <td>140256.000000</td>\n",
              "      <td>140256.000000</td>\n",
              "      <td>140256.000000</td>\n",
              "    </tr>\n",
              "    <tr>\n",
              "      <th>mean</th>\n",
              "      <td>3.970785</td>\n",
              "      <td>20.768480</td>\n",
              "      <td>2.918308</td>\n",
              "      <td>82.184490</td>\n",
              "      <td>37.240309</td>\n",
              "      <td>141.227385</td>\n",
              "      <td>4.521338</td>\n",
              "      <td>191.401476</td>\n",
              "      <td>39.975354</td>\n",
              "      <td>42.205152</td>\n",
              "      <td>...</td>\n",
              "      <td>218.213701</td>\n",
              "      <td>37607.987537</td>\n",
              "      <td>1887.427366</td>\n",
              "      <td>2940.031734</td>\n",
              "      <td>65.413150</td>\n",
              "      <td>9.269709</td>\n",
              "      <td>424.262904</td>\n",
              "      <td>94.704717</td>\n",
              "      <td>625.251734</td>\n",
              "      <td>8722.355145</td>\n",
              "    </tr>\n",
              "    <tr>\n",
              "      <th>std</th>\n",
              "      <td>5.983965</td>\n",
              "      <td>13.272415</td>\n",
              "      <td>11.014456</td>\n",
              "      <td>58.248392</td>\n",
              "      <td>26.461327</td>\n",
              "      <td>98.439984</td>\n",
              "      <td>6.485684</td>\n",
              "      <td>121.981187</td>\n",
              "      <td>29.814595</td>\n",
              "      <td>33.401251</td>\n",
              "      <td>...</td>\n",
              "      <td>204.833532</td>\n",
              "      <td>38691.954832</td>\n",
              "      <td>1801.486488</td>\n",
              "      <td>2732.251967</td>\n",
              "      <td>65.007818</td>\n",
              "      <td>10.016782</td>\n",
              "      <td>274.337122</td>\n",
              "      <td>80.297301</td>\n",
              "      <td>380.656042</td>\n",
              "      <td>9195.155777</td>\n",
              "    </tr>\n",
              "    <tr>\n",
              "      <th>min</th>\n",
              "      <td>0.000000</td>\n",
              "      <td>0.000000</td>\n",
              "      <td>0.000000</td>\n",
              "      <td>0.000000</td>\n",
              "      <td>0.000000</td>\n",
              "      <td>0.000000</td>\n",
              "      <td>0.000000</td>\n",
              "      <td>0.000000</td>\n",
              "      <td>0.000000</td>\n",
              "      <td>0.000000</td>\n",
              "      <td>...</td>\n",
              "      <td>0.000000</td>\n",
              "      <td>0.000000</td>\n",
              "      <td>0.000000</td>\n",
              "      <td>0.000000</td>\n",
              "      <td>0.000000</td>\n",
              "      <td>0.000000</td>\n",
              "      <td>0.000000</td>\n",
              "      <td>0.000000</td>\n",
              "      <td>0.000000</td>\n",
              "      <td>0.000000</td>\n",
              "    </tr>\n",
              "    <tr>\n",
              "      <th>25%</th>\n",
              "      <td>0.000000</td>\n",
              "      <td>2.844950</td>\n",
              "      <td>0.000000</td>\n",
              "      <td>36.585366</td>\n",
              "      <td>15.853659</td>\n",
              "      <td>71.428571</td>\n",
              "      <td>0.565291</td>\n",
              "      <td>111.111111</td>\n",
              "      <td>13.986014</td>\n",
              "      <td>9.677419</td>\n",
              "      <td>...</td>\n",
              "      <td>5.710207</td>\n",
              "      <td>0.000000</td>\n",
              "      <td>0.000000</td>\n",
              "      <td>0.000000</td>\n",
              "      <td>13.037810</td>\n",
              "      <td>0.000000</td>\n",
              "      <td>0.000000</td>\n",
              "      <td>30.050083</td>\n",
              "      <td>83.944282</td>\n",
              "      <td>0.000000</td>\n",
              "    </tr>\n",
              "    <tr>\n",
              "      <th>50%</th>\n",
              "      <td>1.269036</td>\n",
              "      <td>24.893314</td>\n",
              "      <td>1.737619</td>\n",
              "      <td>87.398374</td>\n",
              "      <td>39.024390</td>\n",
              "      <td>157.738095</td>\n",
              "      <td>2.826456</td>\n",
              "      <td>222.222222</td>\n",
              "      <td>40.209790</td>\n",
              "      <td>40.860215</td>\n",
              "      <td>...</td>\n",
              "      <td>131.334761</td>\n",
              "      <td>24100.000000</td>\n",
              "      <td>1050.632911</td>\n",
              "      <td>2136.363636</td>\n",
              "      <td>31.290743</td>\n",
              "      <td>7.021650</td>\n",
              "      <td>525.899912</td>\n",
              "      <td>76.794658</td>\n",
              "      <td>758.064516</td>\n",
              "      <td>0.000000</td>\n",
              "    </tr>\n",
              "    <tr>\n",
              "      <th>75%</th>\n",
              "      <td>2.538071</td>\n",
              "      <td>29.871977</td>\n",
              "      <td>1.737619</td>\n",
              "      <td>115.853659</td>\n",
              "      <td>54.878049</td>\n",
              "      <td>205.357143</td>\n",
              "      <td>4.522329</td>\n",
              "      <td>279.461279</td>\n",
              "      <td>57.692308</td>\n",
              "      <td>61.290323</td>\n",
              "      <td>...</td>\n",
              "      <td>403.283369</td>\n",
              "      <td>54800.000000</td>\n",
              "      <td>3312.236287</td>\n",
              "      <td>5363.636364</td>\n",
              "      <td>108.213820</td>\n",
              "      <td>11.702750</td>\n",
              "      <td>627.743635</td>\n",
              "      <td>151.919866</td>\n",
              "      <td>875.366569</td>\n",
              "      <td>17783.783784</td>\n",
              "    </tr>\n",
              "    <tr>\n",
              "      <th>max</th>\n",
              "      <td>48.223350</td>\n",
              "      <td>115.220484</td>\n",
              "      <td>151.172893</td>\n",
              "      <td>321.138211</td>\n",
              "      <td>150.000000</td>\n",
              "      <td>535.714286</td>\n",
              "      <td>44.657999</td>\n",
              "      <td>552.188552</td>\n",
              "      <td>157.342657</td>\n",
              "      <td>198.924731</td>\n",
              "      <td>...</td>\n",
              "      <td>852.962170</td>\n",
              "      <td>192800.000000</td>\n",
              "      <td>7751.054852</td>\n",
              "      <td>12386.363636</td>\n",
              "      <td>335.071708</td>\n",
              "      <td>60.269163</td>\n",
              "      <td>1138.718174</td>\n",
              "      <td>362.270451</td>\n",
              "      <td>1549.120235</td>\n",
              "      <td>30918.918919</td>\n",
              "    </tr>\n",
              "  </tbody>\n",
              "</table>\n",
              "<p>8 rows × 370 columns</p>\n",
              "</div>\n",
              "    <div class=\"colab-df-buttons\">\n",
              "\n",
              "  <div class=\"colab-df-container\">\n",
              "    <button class=\"colab-df-convert\" onclick=\"convertToInteractive('df-6328a498-b8f5-411c-ad4f-3f5d55a39b17')\"\n",
              "            title=\"Convert this dataframe to an interactive table.\"\n",
              "            style=\"display:none;\">\n",
              "\n",
              "  <svg xmlns=\"http://www.w3.org/2000/svg\" height=\"24px\" viewBox=\"0 -960 960 960\">\n",
              "    <path d=\"M120-120v-720h720v720H120Zm60-500h600v-160H180v160Zm220 220h160v-160H400v160Zm0 220h160v-160H400v160ZM180-400h160v-160H180v160Zm440 0h160v-160H620v160ZM180-180h160v-160H180v160Zm440 0h160v-160H620v160Z\"/>\n",
              "  </svg>\n",
              "    </button>\n",
              "\n",
              "  <style>\n",
              "    .colab-df-container {\n",
              "      display:flex;\n",
              "      gap: 12px;\n",
              "    }\n",
              "\n",
              "    .colab-df-convert {\n",
              "      background-color: #E8F0FE;\n",
              "      border: none;\n",
              "      border-radius: 50%;\n",
              "      cursor: pointer;\n",
              "      display: none;\n",
              "      fill: #1967D2;\n",
              "      height: 32px;\n",
              "      padding: 0 0 0 0;\n",
              "      width: 32px;\n",
              "    }\n",
              "\n",
              "    .colab-df-convert:hover {\n",
              "      background-color: #E2EBFA;\n",
              "      box-shadow: 0px 1px 2px rgba(60, 64, 67, 0.3), 0px 1px 3px 1px rgba(60, 64, 67, 0.15);\n",
              "      fill: #174EA6;\n",
              "    }\n",
              "\n",
              "    .colab-df-buttons div {\n",
              "      margin-bottom: 4px;\n",
              "    }\n",
              "\n",
              "    [theme=dark] .colab-df-convert {\n",
              "      background-color: #3B4455;\n",
              "      fill: #D2E3FC;\n",
              "    }\n",
              "\n",
              "    [theme=dark] .colab-df-convert:hover {\n",
              "      background-color: #434B5C;\n",
              "      box-shadow: 0px 1px 3px 1px rgba(0, 0, 0, 0.15);\n",
              "      filter: drop-shadow(0px 1px 2px rgba(0, 0, 0, 0.3));\n",
              "      fill: #FFFFFF;\n",
              "    }\n",
              "  </style>\n",
              "\n",
              "    <script>\n",
              "      const buttonEl =\n",
              "        document.querySelector('#df-6328a498-b8f5-411c-ad4f-3f5d55a39b17 button.colab-df-convert');\n",
              "      buttonEl.style.display =\n",
              "        google.colab.kernel.accessAllowed ? 'block' : 'none';\n",
              "\n",
              "      async function convertToInteractive(key) {\n",
              "        const element = document.querySelector('#df-6328a498-b8f5-411c-ad4f-3f5d55a39b17');\n",
              "        const dataTable =\n",
              "          await google.colab.kernel.invokeFunction('convertToInteractive',\n",
              "                                                    [key], {});\n",
              "        if (!dataTable) return;\n",
              "\n",
              "        const docLinkHtml = 'Like what you see? Visit the ' +\n",
              "          '<a target=\"_blank\" href=https://colab.research.google.com/notebooks/data_table.ipynb>data table notebook</a>'\n",
              "          + ' to learn more about interactive tables.';\n",
              "        element.innerHTML = '';\n",
              "        dataTable['output_type'] = 'display_data';\n",
              "        await google.colab.output.renderOutput(dataTable, element);\n",
              "        const docLink = document.createElement('div');\n",
              "        docLink.innerHTML = docLinkHtml;\n",
              "        element.appendChild(docLink);\n",
              "      }\n",
              "    </script>\n",
              "  </div>\n",
              "\n",
              "\n",
              "<div id=\"df-b4326ec7-12c5-4176-837d-d8ea2ad39aa8\">\n",
              "  <button class=\"colab-df-quickchart\" onclick=\"quickchart('df-b4326ec7-12c5-4176-837d-d8ea2ad39aa8')\"\n",
              "            title=\"Suggest charts.\"\n",
              "            style=\"display:none;\">\n",
              "\n",
              "<svg xmlns=\"http://www.w3.org/2000/svg\" height=\"24px\"viewBox=\"0 0 24 24\"\n",
              "     width=\"24px\">\n",
              "    <g>\n",
              "        <path d=\"M19 3H5c-1.1 0-2 .9-2 2v14c0 1.1.9 2 2 2h14c1.1 0 2-.9 2-2V5c0-1.1-.9-2-2-2zM9 17H7v-7h2v7zm4 0h-2V7h2v10zm4 0h-2v-4h2v4z\"/>\n",
              "    </g>\n",
              "</svg>\n",
              "  </button>\n",
              "\n",
              "<style>\n",
              "  .colab-df-quickchart {\n",
              "      --bg-color: #E8F0FE;\n",
              "      --fill-color: #1967D2;\n",
              "      --hover-bg-color: #E2EBFA;\n",
              "      --hover-fill-color: #174EA6;\n",
              "      --disabled-fill-color: #AAA;\n",
              "      --disabled-bg-color: #DDD;\n",
              "  }\n",
              "\n",
              "  [theme=dark] .colab-df-quickchart {\n",
              "      --bg-color: #3B4455;\n",
              "      --fill-color: #D2E3FC;\n",
              "      --hover-bg-color: #434B5C;\n",
              "      --hover-fill-color: #FFFFFF;\n",
              "      --disabled-bg-color: #3B4455;\n",
              "      --disabled-fill-color: #666;\n",
              "  }\n",
              "\n",
              "  .colab-df-quickchart {\n",
              "    background-color: var(--bg-color);\n",
              "    border: none;\n",
              "    border-radius: 50%;\n",
              "    cursor: pointer;\n",
              "    display: none;\n",
              "    fill: var(--fill-color);\n",
              "    height: 32px;\n",
              "    padding: 0;\n",
              "    width: 32px;\n",
              "  }\n",
              "\n",
              "  .colab-df-quickchart:hover {\n",
              "    background-color: var(--hover-bg-color);\n",
              "    box-shadow: 0 1px 2px rgba(60, 64, 67, 0.3), 0 1px 3px 1px rgba(60, 64, 67, 0.15);\n",
              "    fill: var(--button-hover-fill-color);\n",
              "  }\n",
              "\n",
              "  .colab-df-quickchart-complete:disabled,\n",
              "  .colab-df-quickchart-complete:disabled:hover {\n",
              "    background-color: var(--disabled-bg-color);\n",
              "    fill: var(--disabled-fill-color);\n",
              "    box-shadow: none;\n",
              "  }\n",
              "\n",
              "  .colab-df-spinner {\n",
              "    border: 2px solid var(--fill-color);\n",
              "    border-color: transparent;\n",
              "    border-bottom-color: var(--fill-color);\n",
              "    animation:\n",
              "      spin 1s steps(1) infinite;\n",
              "  }\n",
              "\n",
              "  @keyframes spin {\n",
              "    0% {\n",
              "      border-color: transparent;\n",
              "      border-bottom-color: var(--fill-color);\n",
              "      border-left-color: var(--fill-color);\n",
              "    }\n",
              "    20% {\n",
              "      border-color: transparent;\n",
              "      border-left-color: var(--fill-color);\n",
              "      border-top-color: var(--fill-color);\n",
              "    }\n",
              "    30% {\n",
              "      border-color: transparent;\n",
              "      border-left-color: var(--fill-color);\n",
              "      border-top-color: var(--fill-color);\n",
              "      border-right-color: var(--fill-color);\n",
              "    }\n",
              "    40% {\n",
              "      border-color: transparent;\n",
              "      border-right-color: var(--fill-color);\n",
              "      border-top-color: var(--fill-color);\n",
              "    }\n",
              "    60% {\n",
              "      border-color: transparent;\n",
              "      border-right-color: var(--fill-color);\n",
              "    }\n",
              "    80% {\n",
              "      border-color: transparent;\n",
              "      border-right-color: var(--fill-color);\n",
              "      border-bottom-color: var(--fill-color);\n",
              "    }\n",
              "    90% {\n",
              "      border-color: transparent;\n",
              "      border-bottom-color: var(--fill-color);\n",
              "    }\n",
              "  }\n",
              "</style>\n",
              "\n",
              "  <script>\n",
              "    async function quickchart(key) {\n",
              "      const quickchartButtonEl =\n",
              "        document.querySelector('#' + key + ' button');\n",
              "      quickchartButtonEl.disabled = true;  // To prevent multiple clicks.\n",
              "      quickchartButtonEl.classList.add('colab-df-spinner');\n",
              "      try {\n",
              "        const charts = await google.colab.kernel.invokeFunction(\n",
              "            'suggestCharts', [key], {});\n",
              "      } catch (error) {\n",
              "        console.error('Error during call to suggestCharts:', error);\n",
              "      }\n",
              "      quickchartButtonEl.classList.remove('colab-df-spinner');\n",
              "      quickchartButtonEl.classList.add('colab-df-quickchart-complete');\n",
              "    }\n",
              "    (() => {\n",
              "      let quickchartButtonEl =\n",
              "        document.querySelector('#df-b4326ec7-12c5-4176-837d-d8ea2ad39aa8 button');\n",
              "      quickchartButtonEl.style.display =\n",
              "        google.colab.kernel.accessAllowed ? 'block' : 'none';\n",
              "    })();\n",
              "  </script>\n",
              "</div>\n",
              "    </div>\n",
              "  </div>\n"
            ]
          },
          "metadata": {},
          "execution_count": 8
        }
      ]
    },
    {
      "cell_type": "code",
      "metadata": {
        "id": "8Chw0xxZopMH",
        "colab": {
          "base_uri": "https://localhost:8080/",
          "height": 430
        },
        "outputId": "47a3656e-f2df-4a6f-f7bf-acfa973e7fdd"
      },
      "source": [
        "data_example = data.loc['2012-01-01 00:15:00':'2012-01-03 00:00:00'][['MT_001','MT_002']]\n",
        "data_example.plot()\n",
        "plt.show()"
      ],
      "execution_count": 9,
      "outputs": [
        {
          "output_type": "display_data",
          "data": {
            "text/plain": [
              "<Figure size 640x480 with 1 Axes>"
            ],
            "image/png": "[encoded data removed]"
          },
          "metadata": {}
        }
      ]
    },
    {
      "cell_type": "markdown",
      "metadata": {
        "id": "PliovQiueFtV"
      },
      "source": [
        "### Plot the 2 days of 2012 for the first 2 clients"
      ]
    },
    {
      "cell_type": "code",
      "metadata": {
        "id": "BQ1rHHspeFtV",
        "colab": {
          "base_uri": "https://localhost:8080/",
          "height": 430
        },
        "outputId": "592a0e89-9aa6-43eb-e5fd-7d5960862c35"
      },
      "source": [
        "data_example = data.loc['2012-01-01 00:15:00':'2012-01-03 00:00:00'][['MT_001','MT_002']]\n",
        "data_example.plot()\n",
        "plt.show()"
      ],
      "execution_count": 10,
      "outputs": [
        {
          "output_type": "display_data",
          "data": {
            "text/plain": [
              "<Figure size 640x480 with 1 Axes>"
            ],
            "image/png": "[encoded data removed]"
          },
          "metadata": {}
        }
      ]
    },
    {
      "cell_type": "markdown",
      "metadata": {
        "id": "tsxn0FvXeFtZ"
      },
      "source": [
        "#### Very Important Note:\n",
        "We quickly note that the main difference between the curves is the level (also seen on the means in df.describe()), so we know we will have to somehow normalize the curves, in order for the clustering technique to capture the behaviour of the consumption throughout the day, rather than the overall level."
      ]
    },
    {
      "cell_type": "markdown",
      "metadata": {
        "id": "pGxbwhrueFtZ"
      },
      "source": [
        "### Data for the analysis\n",
        "\n",
        "We focus on 2013 and 2014 because these are the years with lower number of clients having zero demand"
      ]
    },
    {
      "cell_type": "code",
      "metadata": {
        "id": "rOkMpq4ceFta"
      },
      "source": [
        "data2011 = data.loc['2011-01-01 00:15:00':'2012-01-01 00:00:00']\n",
        "data2012 = data.loc['2012-01-01 00:15:00':'2013-01-01 00:00:00']\n",
        "data2013 = data.loc['2013-01-01 00:15:00':'2014-01-01 00:00:00']\n",
        "data2014 = data.loc['2014-01-01 00:15:00':'2015-01-01 00:00:00']"
      ],
      "execution_count": 11,
      "outputs": []
    },
    {
      "cell_type": "code",
      "metadata": {
        "id": "Eq4fatz3eFtd",
        "colab": {
          "base_uri": "https://localhost:8080/"
        },
        "outputId": "68aea334-ca37-4fe6-d885-4a3dc4fb6807"
      },
      "source": [
        "# Check number of days\n",
        "print(data2011.shape[0]/96)\n",
        "print(data2012.shape[0]/96)\n",
        "print(data2013.shape[0]/96)\n",
        "print(data2014.shape[0]/96)"
      ],
      "execution_count": 12,
      "outputs": [
        {
          "output_type": "stream",
          "name": "stdout",
          "text": [
            "365.0\n",
            "366.0\n",
            "365.0\n",
            "365.0\n"
          ]
        }
      ]
    },
    {
      "cell_type": "code",
      "metadata": {
        "id": "iotkoGCgeFth",
        "colab": {
          "base_uri": "https://localhost:8080/"
        },
        "outputId": "4a1d0b3e-3ef6-4ba5-d302-4b6354fc2914"
      },
      "source": [
        "# See number of clients with 0 demand per year\n",
        "print(sum(data2011.mean()==0))\n",
        "print(sum(data2012.mean()==0))\n",
        "print(sum(data2013.mean()==0))\n",
        "print(sum(data2014.mean()==0))"
      ],
      "execution_count": 13,
      "outputs": [
        {
          "output_type": "stream",
          "name": "stdout",
          "text": [
            "210\n",
            "37\n",
            "21\n",
            "1\n"
          ]
        }
      ]
    },
    {
      "cell_type": "code",
      "metadata": {
        "id": "z1O_kTHOeFtk",
        "colab": {
          "base_uri": "https://localhost:8080/"
        },
        "outputId": "53aa456f-0df0-411b-b40e-f9a06afbba2c"
      },
      "source": [
        "clients = data2011.columns\n",
        "clients_no_demand = clients[data2013.mean()==0] # clients with 0 demand\n",
        "\n",
        "# Add data of 2014 at the end of df consist of 2013 data\n",
        "\n",
        "data_13_14 = data2013.append(data2014) # appending 2013 and 2014\n",
        "\n",
        "# drop clients with 0 demand\n",
        "data_13_14 = data_13_14.drop(clients_no_demand, axis=1)\n",
        "print(data_13_14.shape)\n",
        "print(sum(data_13_14.mean()==0)) # check that there are no clients with 0 demand"
      ],
      "execution_count": 14,
      "outputs": [
        {
          "output_type": "stream",
          "name": "stderr",
          "text": [
            "<ipython-input-14-7340a41db746>:6: FutureWarning: The frame.append method is deprecated and will be removed from pandas in a future version. Use pandas.concat instead.\n",
            "  data_13_14 = data2013.append(data2014) # appending 2013 and 2014\n"
          ]
        },
        {
          "output_type": "stream",
          "name": "stdout",
          "text": [
            "(70080, 349)\n",
            "0\n"
          ]
        }
      ]
    },
    {
      "cell_type": "code",
      "metadata": {
        "id": "GlsCu2OybOru",
        "colab": {
          "base_uri": "https://localhost:8080/",
          "height": 617
        },
        "outputId": "98db9152-63ff-4e88-da12-b4c0adfd3453"
      },
      "source": [
        "data_13_14.copy()"
      ],
      "execution_count": 15,
      "outputs": [
        {
          "output_type": "execute_result",
          "data": {
            "text/plain": [
              "                       MT_001     MT_002    MT_003      MT_004     MT_005  \\\n",
              "2013-01-01 00:15:00  2.538071  22.759602  2.606429  138.211382  63.414634   \n",
              "2013-01-01 00:30:00  1.269036  22.759602  2.606429  138.211382  63.414634   \n",
              "2013-01-01 00:45:00  2.538071  22.759602  2.606429  134.146341  60.975610   \n",
              "2013-01-01 01:00:00  1.269036  23.470839  2.606429  130.081301  56.097561   \n",
              "2013-01-01 01:15:00  3.807107  23.470839  2.606429  130.081301  58.536585   \n",
              "...                       ...        ...       ...         ...        ...   \n",
              "2014-12-31 23:00:00  2.538071  22.048364  1.737619  150.406504  85.365854   \n",
              "2014-12-31 23:15:00  2.538071  21.337127  1.737619  166.666667  81.707317   \n",
              "2014-12-31 23:30:00  2.538071  20.625889  1.737619  162.601626  82.926829   \n",
              "2014-12-31 23:45:00  1.269036  21.337127  1.737619  166.666667  85.365854   \n",
              "2015-01-01 00:00:00  2.538071  19.914651  1.737619  178.861789  84.146341   \n",
              "\n",
              "                         MT_006     MT_007      MT_008     MT_009     MT_010  \\\n",
              "2013-01-01 00:15:00  255.952381   4.522329  239.057239  57.692308  78.494624   \n",
              "2013-01-01 00:30:00  264.880952   5.652911  228.956229  57.692308  76.344086   \n",
              "2013-01-01 00:45:00  250.000000   5.652911  239.057239  54.195804  76.344086   \n",
              "2013-01-01 01:00:00  226.190476   6.218202  249.158249  50.699301  75.268817   \n",
              "2013-01-01 01:15:00  229.166667   6.783493  239.057239  57.692308  74.193548   \n",
              "...                         ...        ...         ...        ...        ...   \n",
              "2014-12-31 23:00:00  303.571429  11.305822  282.828283  68.181818  72.043011   \n",
              "2014-12-31 23:15:00  324.404762  11.305822  252.525253  64.685315  72.043011   \n",
              "2014-12-31 23:30:00  318.452381  10.175240  242.424242  61.188811  74.193548   \n",
              "2014-12-31 23:45:00  285.714286  10.175240  225.589226  64.685315  72.043011   \n",
              "2015-01-01 00:00:00  279.761905  10.175240  249.158249  62.937063  69.892473   \n",
              "\n",
              "                     ...      MT_361   MT_362       MT_363       MT_364  \\\n",
              "2013-01-01 00:15:00  ...   64.953605  22300.0   886.075949  1000.000000   \n",
              "2013-01-01 00:30:00  ...   61.384725  21000.0   864.978903   909.090909   \n",
              "2013-01-01 00:45:00  ...   42.826552  18200.0   860.759494   840.909091   \n",
              "2013-01-01 01:00:00  ...   44.254104  15800.0   860.759494   840.909091   \n",
              "2013-01-01 01:15:00  ...   44.254104  15000.0   793.248945   818.181818   \n",
              "...                  ...         ...      ...          ...          ...   \n",
              "2014-12-31 23:00:00  ...  276.945039  28200.0  1616.033755  1363.636364   \n",
              "2014-12-31 23:15:00  ...  279.800143  28300.0  1569.620253  1340.909091   \n",
              "2014-12-31 23:30:00  ...  284.796574  27800.0  1556.962025  1318.181818   \n",
              "2014-12-31 23:45:00  ...  246.252677  28000.0  1443.037975   909.090909   \n",
              "2015-01-01 00:00:00  ...  188.436831  27800.0  1409.282700   954.545455   \n",
              "\n",
              "                        MT_365    MT_366      MT_367      MT_368      MT_369  \\\n",
              "2013-01-01 00:15:00  16.949153  6.436513  616.330114   76.794658  731.671554   \n",
              "2013-01-01 00:30:00  18.252934  3.510825  564.530290   76.794658  727.272727   \n",
              "2013-01-01 00:45:00  16.949153  5.851375  590.869183   68.447412  730.205279   \n",
              "2013-01-01 01:00:00  16.949153  4.095963  575.065847   58.430718  722.873900   \n",
              "2013-01-01 01:15:00  16.949153  4.095963  570.676032   60.100167  748.533724   \n",
              "...                        ...       ...         ...         ...         ...   \n",
              "2014-12-31 23:00:00  29.986962  5.851375  697.102722  176.961603  651.026393   \n",
              "2014-12-31 23:15:00  29.986962  9.947338  671.641791  168.614357  669.354839   \n",
              "2014-12-31 23:30:00  27.379400  9.362200  670.763828  153.589316  670.087977   \n",
              "2014-12-31 23:45:00  26.075619  4.095963  664.618086  146.911519  646.627566   \n",
              "2015-01-01 00:00:00  27.379400  4.095963  628.621598  131.886477  673.020528   \n",
              "\n",
              "                          MT_370  \n",
              "2013-01-01 00:15:00  8086.486486  \n",
              "2013-01-01 00:30:00  8086.486486  \n",
              "2013-01-01 00:45:00  7848.648649  \n",
              "2013-01-01 01:00:00  7848.648649  \n",
              "2013-01-01 01:15:00  7610.810811  \n",
              "...                          ...  \n",
              "2014-12-31 23:00:00  7621.621622  \n",
              "2014-12-31 23:15:00  6702.702703  \n",
              "2014-12-31 23:30:00  6864.864865  \n",
              "2014-12-31 23:45:00  6540.540541  \n",
              "2015-01-01 00:00:00  7135.135135  \n",
              "\n",
              "[70080 rows x 349 columns]"
            ],
            "text/html": [
              "\n",
              "  <div id=\"df-89d12fb4-ba55-4b37-bd72-b93d1cba5a37\" class=\"colab-df-container\">\n",
              "    <div>\n",
              "<style scoped>\n",
              "    .dataframe tbody tr th:only-of-type {\n",
              "        vertical-align: middle;\n",
              "    }\n",
              "\n",
              "    .dataframe tbody tr th {\n",
              "        vertical-align: top;\n",
              "    }\n",
              "\n",
              "    .dataframe thead th {\n",
              "        text-align: right;\n",
              "    }\n",
              "</style>\n",
              "<table border=\"1\" class=\"dataframe\">\n",
              "  <thead>\n",
              "    <tr style=\"text-align: right;\">\n",
              "      <th></th>\n",
              "      <th>MT_001</th>\n",
              "      <th>MT_002</th>\n",
              "      <th>MT_003</th>\n",
              "      <th>MT_004</th>\n",
              "      <th>MT_005</th>\n",
              "      <th>MT_006</th>\n",
              "      <th>MT_007</th>\n",
              "      <th>MT_008</th>\n",
              "      <th>MT_009</th>\n",
              "      <th>MT_010</th>\n",
              "      <th>...</th>\n",
              "      <th>MT_361</th>\n",
              "      <th>MT_362</th>\n",
              "      <th>MT_363</th>\n",
              "      <th>MT_364</th>\n",
              "      <th>MT_365</th>\n",
              "      <th>MT_366</th>\n",
              "      <th>MT_367</th>\n",
              "      <th>MT_368</th>\n",
              "      <th>MT_369</th>\n",
              "      <th>MT_370</th>\n",
              "    </tr>\n",
              "  </thead>\n",
              "  <tbody>\n",
              "    <tr>\n",
              "      <th>2013-01-01 00:15:00</th>\n",
              "      <td>2.538071</td>\n",
              "      <td>22.759602</td>\n",
              "      <td>2.606429</td>\n",
              "      <td>138.211382</td>\n",
              "      <td>63.414634</td>\n",
              "      <td>255.952381</td>\n",
              "      <td>4.522329</td>\n",
              "      <td>239.057239</td>\n",
              "      <td>57.692308</td>\n",
              "      <td>78.494624</td>\n",
              "      <td>...</td>\n",
              "      <td>64.953605</td>\n",
              "      <td>22300.0</td>\n",
              "      <td>886.075949</td>\n",
              "      <td>1000.000000</td>\n",
              "      <td>16.949153</td>\n",
              "      <td>6.436513</td>\n",
              "      <td>616.330114</td>\n",
              "      <td>76.794658</td>\n",
              "      <td>731.671554</td>\n",
              "      <td>8086.486486</td>\n",
              "    </tr>\n",
              "    <tr>\n",
              "      <th>2013-01-01 00:30:00</th>\n",
              "      <td>1.269036</td>\n",
              "      <td>22.759602</td>\n",
              "      <td>2.606429</td>\n",
              "      <td>138.211382</td>\n",
              "      <td>63.414634</td>\n",
              "      <td>264.880952</td>\n",
              "      <td>5.652911</td>\n",
              "      <td>228.956229</td>\n",
              "      <td>57.692308</td>\n",
              "      <td>76.344086</td>\n",
              "      <td>...</td>\n",
              "      <td>61.384725</td>\n",
              "      <td>21000.0</td>\n",
              "      <td>864.978903</td>\n",
              "      <td>909.090909</td>\n",
              "      <td>18.252934</td>\n",
              "      <td>3.510825</td>\n",
              "      <td>564.530290</td>\n",
              "      <td>76.794658</td>\n",
              "      <td>727.272727</td>\n",
              "      <td>8086.486486</td>\n",
              "    </tr>\n",
              "    <tr>\n",
              "      <th>2013-01-01 00:45:00</th>\n",
              "      <td>2.538071</td>\n",
              "      <td>22.759602</td>\n",
              "      <td>2.606429</td>\n",
              "      <td>134.146341</td>\n",
              "      <td>60.975610</td>\n",
              "      <td>250.000000</td>\n",
              "      <td>5.652911</td>\n",
              "      <td>239.057239</td>\n",
              "      <td>54.195804</td>\n",
              "      <td>76.344086</td>\n",
              "      <td>...</td>\n",
              "      <td>42.826552</td>\n",
              "      <td>18200.0</td>\n",
              "      <td>860.759494</td>\n",
              "      <td>840.909091</td>\n",
              "      <td>16.949153</td>\n",
              "      <td>5.851375</td>\n",
              "      <td>590.869183</td>\n",
              "      <td>68.447412</td>\n",
              "      <td>730.205279</td>\n",
              "      <td>7848.648649</td>\n",
              "    </tr>\n",
              "    <tr>\n",
              "      <th>2013-01-01 01:00:00</th>\n",
              "      <td>1.269036</td>\n",
              "      <td>23.470839</td>\n",
              "      <td>2.606429</td>\n",
              "      <td>130.081301</td>\n",
              "      <td>56.097561</td>\n",
              "      <td>226.190476</td>\n",
              "      <td>6.218202</td>\n",
              "      <td>249.158249</td>\n",
              "      <td>50.699301</td>\n",
              "      <td>75.268817</td>\n",
              "      <td>...</td>\n",
              "      <td>44.254104</td>\n",
              "      <td>15800.0</td>\n",
              "      <td>860.759494</td>\n",
              "      <td>840.909091</td>\n",
              "      <td>16.949153</td>\n",
              "      <td>4.095963</td>\n",
              "      <td>575.065847</td>\n",
              "      <td>58.430718</td>\n",
              "      <td>722.873900</td>\n",
              "      <td>7848.648649</td>\n",
              "    </tr>\n",
              "    <tr>\n",
              "      <th>2013-01-01 01:15:00</th>\n",
              "      <td>3.807107</td>\n",
              "      <td>23.470839</td>\n",
              "      <td>2.606429</td>\n",
              "      <td>130.081301</td>\n",
              "      <td>58.536585</td>\n",
              "      <td>229.166667</td>\n",
              "      <td>6.783493</td>\n",
              "      <td>239.057239</td>\n",
              "      <td>57.692308</td>\n",
              "      <td>74.193548</td>\n",
              "      <td>...</td>\n",
              "      <td>44.254104</td>\n",
              "      <td>15000.0</td>\n",
              "      <td>793.248945</td>\n",
              "      <td>818.181818</td>\n",
              "      <td>16.949153</td>\n",
              "      <td>4.095963</td>\n",
              "      <td>570.676032</td>\n",
              "      <td>60.100167</td>\n",
              "      <td>748.533724</td>\n",
              "      <td>7610.810811</td>\n",
              "    </tr>\n",
              "    <tr>\n",
              "      <th>...</th>\n",
              "      <td>...</td>\n",
              "      <td>...</td>\n",
              "      <td>...</td>\n",
              "      <td>...</td>\n",
              "      <td>...</td>\n",
              "      <td>...</td>\n",
              "      <td>...</td>\n",
              "      <td>...</td>\n",
              "      <td>...</td>\n",
              "      <td>...</td>\n",
              "      <td>...</td>\n",
              "      <td>...</td>\n",
              "      <td>...</td>\n",
              "      <td>...</td>\n",
              "      <td>...</td>\n",
              "      <td>...</td>\n",
              "      <td>...</td>\n",
              "      <td>...</td>\n",
              "      <td>...</td>\n",
              "      <td>...</td>\n",
              "      <td>...</td>\n",
              "    </tr>\n",
              "    <tr>\n",
              "      <th>2014-12-31 23:00:00</th>\n",
              "      <td>2.538071</td>\n",
              "      <td>22.048364</td>\n",
              "      <td>1.737619</td>\n",
              "      <td>150.406504</td>\n",
              "      <td>85.365854</td>\n",
              "      <td>303.571429</td>\n",
              "      <td>11.305822</td>\n",
              "      <td>282.828283</td>\n",
              "      <td>68.181818</td>\n",
              "      <td>72.043011</td>\n",
              "      <td>...</td>\n",
              "      <td>276.945039</td>\n",
              "      <td>28200.0</td>\n",
              "      <td>1616.033755</td>\n",
              "      <td>1363.636364</td>\n",
              "      <td>29.986962</td>\n",
              "      <td>5.851375</td>\n",
              "      <td>697.102722</td>\n",
              "      <td>176.961603</td>\n",
              "      <td>651.026393</td>\n",
              "      <td>7621.621622</td>\n",
              "    </tr>\n",
              "    <tr>\n",
              "      <th>2014-12-31 23:15:00</th>\n",
              "      <td>2.538071</td>\n",
              "      <td>21.337127</td>\n",
              "      <td>1.737619</td>\n",
              "      <td>166.666667</td>\n",
              "      <td>81.707317</td>\n",
              "      <td>324.404762</td>\n",
              "      <td>11.305822</td>\n",
              "      <td>252.525253</td>\n",
              "      <td>64.685315</td>\n",
              "      <td>72.043011</td>\n",
              "      <td>...</td>\n",
              "      <td>279.800143</td>\n",
              "      <td>28300.0</td>\n",
              "      <td>1569.620253</td>\n",
              "      <td>1340.909091</td>\n",
              "      <td>29.986962</td>\n",
              "      <td>9.947338</td>\n",
              "      <td>671.641791</td>\n",
              "      <td>168.614357</td>\n",
              "      <td>669.354839</td>\n",
              "      <td>6702.702703</td>\n",
              "    </tr>\n",
              "    <tr>\n",
              "      <th>2014-12-31 23:30:00</th>\n",
              "      <td>2.538071</td>\n",
              "      <td>20.625889</td>\n",
              "      <td>1.737619</td>\n",
              "      <td>162.601626</td>\n",
              "      <td>82.926829</td>\n",
              "      <td>318.452381</td>\n",
              "      <td>10.175240</td>\n",
              "      <td>242.424242</td>\n",
              "      <td>61.188811</td>\n",
              "      <td>74.193548</td>\n",
              "      <td>...</td>\n",
              "      <td>284.796574</td>\n",
              "      <td>27800.0</td>\n",
              "      <td>1556.962025</td>\n",
              "      <td>1318.181818</td>\n",
              "      <td>27.379400</td>\n",
              "      <td>9.362200</td>\n",
              "      <td>670.763828</td>\n",
              "      <td>153.589316</td>\n",
              "      <td>670.087977</td>\n",
              "      <td>6864.864865</td>\n",
              "    </tr>\n",
              "    <tr>\n",
              "      <th>2014-12-31 23:45:00</th>\n",
              "      <td>1.269036</td>\n",
              "      <td>21.337127</td>\n",
              "      <td>1.737619</td>\n",
              "      <td>166.666667</td>\n",
              "      <td>85.365854</td>\n",
              "      <td>285.714286</td>\n",
              "      <td>10.175240</td>\n",
              "      <td>225.589226</td>\n",
              "      <td>64.685315</td>\n",
              "      <td>72.043011</td>\n",
              "      <td>...</td>\n",
              "      <td>246.252677</td>\n",
              "      <td>28000.0</td>\n",
              "      <td>1443.037975</td>\n",
              "      <td>909.090909</td>\n",
              "      <td>26.075619</td>\n",
              "      <td>4.095963</td>\n",
              "      <td>664.618086</td>\n",
              "      <td>146.911519</td>\n",
              "      <td>646.627566</td>\n",
              "      <td>6540.540541</td>\n",
              "    </tr>\n",
              "    <tr>\n",
              "      <th>2015-01-01 00:00:00</th>\n",
              "      <td>2.538071</td>\n",
              "      <td>19.914651</td>\n",
              "      <td>1.737619</td>\n",
              "      <td>178.861789</td>\n",
              "      <td>84.146341</td>\n",
              "      <td>279.761905</td>\n",
              "      <td>10.175240</td>\n",
              "      <td>249.158249</td>\n",
              "      <td>62.937063</td>\n",
              "      <td>69.892473</td>\n",
              "      <td>...</td>\n",
              "      <td>188.436831</td>\n",
              "      <td>27800.0</td>\n",
              "      <td>1409.282700</td>\n",
              "      <td>954.545455</td>\n",
              "      <td>27.379400</td>\n",
              "      <td>4.095963</td>\n",
              "      <td>628.621598</td>\n",
              "      <td>131.886477</td>\n",
              "      <td>673.020528</td>\n",
              "      <td>7135.135135</td>\n",
              "    </tr>\n",
              "  </tbody>\n",
              "</table>\n",
              "<p>70080 rows × 349 columns</p>\n",
              "</div>\n",
              "    <div class=\"colab-df-buttons\">\n",
              "\n",
              "  <div class=\"colab-df-container\">\n",
              "    <button class=\"colab-df-convert\" onclick=\"convertToInteractive('df-89d12fb4-ba55-4b37-bd72-b93d1cba5a37')\"\n",
              "            title=\"Convert this dataframe to an interactive table.\"\n",
              "            style=\"display:none;\">\n",
              "\n",
              "  <svg xmlns=\"http://www.w3.org/2000/svg\" height=\"24px\" viewBox=\"0 -960 960 960\">\n",
              "    <path d=\"M120-120v-720h720v720H120Zm60-500h600v-160H180v160Zm220 220h160v-160H400v160Zm0 220h160v-160H400v160ZM180-400h160v-160H180v160Zm440 0h160v-160H620v160ZM180-180h160v-160H180v160Zm440 0h160v-160H620v160Z\"/>\n",
              "  </svg>\n",
              "    </button>\n",
              "\n",
              "  <style>\n",
              "    .colab-df-container {\n",
              "      display:flex;\n",
              "      gap: 12px;\n",
              "    }\n",
              "\n",
              "    .colab-df-convert {\n",
              "      background-color: #E8F0FE;\n",
              "      border: none;\n",
              "      border-radius: 50%;\n",
              "      cursor: pointer;\n",
              "      display: none;\n",
              "      fill: #1967D2;\n",
              "      height: 32px;\n",
              "      padding: 0 0 0 0;\n",
              "      width: 32px;\n",
              "    }\n",
              "\n",
              "    .colab-df-convert:hover {\n",
              "      background-color: #E2EBFA;\n",
              "      box-shadow: 0px 1px 2px rgba(60, 64, 67, 0.3), 0px 1px 3px 1px rgba(60, 64, 67, 0.15);\n",
              "      fill: #174EA6;\n",
              "    }\n",
              "\n",
              "    .colab-df-buttons div {\n",
              "      margin-bottom: 4px;\n",
              "    }\n",
              "\n",
              "    [theme=dark] .colab-df-convert {\n",
              "      background-color: #3B4455;\n",
              "      fill: #D2E3FC;\n",
              "    }\n",
              "\n",
              "    [theme=dark] .colab-df-convert:hover {\n",
              "      background-color: #434B5C;\n",
              "      box-shadow: 0px 1px 3px 1px rgba(0, 0, 0, 0.15);\n",
              "      filter: drop-shadow(0px 1px 2px rgba(0, 0, 0, 0.3));\n",
              "      fill: #FFFFFF;\n",
              "    }\n",
              "  </style>\n",
              "\n",
              "    <script>\n",
              "      const buttonEl =\n",
              "        document.querySelector('#df-89d12fb4-ba55-4b37-bd72-b93d1cba5a37 button.colab-df-convert');\n",
              "      buttonEl.style.display =\n",
              "        google.colab.kernel.accessAllowed ? 'block' : 'none';\n",
              "\n",
              "      async function convertToInteractive(key) {\n",
              "        const element = document.querySelector('#df-89d12fb4-ba55-4b37-bd72-b93d1cba5a37');\n",
              "        const dataTable =\n",
              "          await google.colab.kernel.invokeFunction('convertToInteractive',\n",
              "                                                    [key], {});\n",
              "        if (!dataTable) return;\n",
              "\n",
              "        const docLinkHtml = 'Like what you see? Visit the ' +\n",
              "          '<a target=\"_blank\" href=https://colab.research.google.com/notebooks/data_table.ipynb>data table notebook</a>'\n",
              "          + ' to learn more about interactive tables.';\n",
              "        element.innerHTML = '';\n",
              "        dataTable['output_type'] = 'display_data';\n",
              "        await google.colab.output.renderOutput(dataTable, element);\n",
              "        const docLink = document.createElement('div');\n",
              "        docLink.innerHTML = docLinkHtml;\n",
              "        element.appendChild(docLink);\n",
              "      }\n",
              "    </script>\n",
              "  </div>\n",
              "\n",
              "\n",
              "<div id=\"df-4d97a596-5a5e-4877-a411-9a83321199d4\">\n",
              "  <button class=\"colab-df-quickchart\" onclick=\"quickchart('df-4d97a596-5a5e-4877-a411-9a83321199d4')\"\n",
              "            title=\"Suggest charts.\"\n",
              "            style=\"display:none;\">\n",
              "\n",
              "<svg xmlns=\"http://www.w3.org/2000/svg\" height=\"24px\"viewBox=\"0 0 24 24\"\n",
              "     width=\"24px\">\n",
              "    <g>\n",
              "        <path d=\"M19 3H5c-1.1 0-2 .9-2 2v14c0 1.1.9 2 2 2h14c1.1 0 2-.9 2-2V5c0-1.1-.9-2-2-2zM9 17H7v-7h2v7zm4 0h-2V7h2v10zm4 0h-2v-4h2v4z\"/>\n",
              "    </g>\n",
              "</svg>\n",
              "  </button>\n",
              "\n",
              "<style>\n",
              "  .colab-df-quickchart {\n",
              "      --bg-color: #E8F0FE;\n",
              "      --fill-color: #1967D2;\n",
              "      --hover-bg-color: #E2EBFA;\n",
              "      --hover-fill-color: #174EA6;\n",
              "      --disabled-fill-color: #AAA;\n",
              "      --disabled-bg-color: #DDD;\n",
              "  }\n",
              "\n",
              "  [theme=dark] .colab-df-quickchart {\n",
              "      --bg-color: #3B4455;\n",
              "      --fill-color: #D2E3FC;\n",
              "      --hover-bg-color: #434B5C;\n",
              "      --hover-fill-color: #FFFFFF;\n",
              "      --disabled-bg-color: #3B4455;\n",
              "      --disabled-fill-color: #666;\n",
              "  }\n",
              "\n",
              "  .colab-df-quickchart {\n",
              "    background-color: var(--bg-color);\n",
              "    border: none;\n",
              "    border-radius: 50%;\n",
              "    cursor: pointer;\n",
              "    display: none;\n",
              "    fill: var(--fill-color);\n",
              "    height: 32px;\n",
              "    padding: 0;\n",
              "    width: 32px;\n",
              "  }\n",
              "\n",
              "  .colab-df-quickchart:hover {\n",
              "    background-color: var(--hover-bg-color);\n",
              "    box-shadow: 0 1px 2px rgba(60, 64, 67, 0.3), 0 1px 3px 1px rgba(60, 64, 67, 0.15);\n",
              "    fill: var(--button-hover-fill-color);\n",
              "  }\n",
              "\n",
              "  .colab-df-quickchart-complete:disabled,\n",
              "  .colab-df-quickchart-complete:disabled:hover {\n",
              "    background-color: var(--disabled-bg-color);\n",
              "    fill: var(--disabled-fill-color);\n",
              "    box-shadow: none;\n",
              "  }\n",
              "\n",
              "  .colab-df-spinner {\n",
              "    border: 2px solid var(--fill-color);\n",
              "    border-color: transparent;\n",
              "    border-bottom-color: var(--fill-color);\n",
              "    animation:\n",
              "      spin 1s steps(1) infinite;\n",
              "  }\n",
              "\n",
              "  @keyframes spin {\n",
              "    0% {\n",
              "      border-color: transparent;\n",
              "      border-bottom-color: var(--fill-color);\n",
              "      border-left-color: var(--fill-color);\n",
              "    }\n",
              "    20% {\n",
              "      border-color: transparent;\n",
              "      border-left-color: var(--fill-color);\n",
              "      border-top-color: var(--fill-color);\n",
              "    }\n",
              "    30% {\n",
              "      border-color: transparent;\n",
              "      border-left-color: var(--fill-color);\n",
              "      border-top-color: var(--fill-color);\n",
              "      border-right-color: var(--fill-color);\n",
              "    }\n",
              "    40% {\n",
              "      border-color: transparent;\n",
              "      border-right-color: var(--fill-color);\n",
              "      border-top-color: var(--fill-color);\n",
              "    }\n",
              "    60% {\n",
              "      border-color: transparent;\n",
              "      border-right-color: var(--fill-color);\n",
              "    }\n",
              "    80% {\n",
              "      border-color: transparent;\n",
              "      border-right-color: var(--fill-color);\n",
              "      border-bottom-color: var(--fill-color);\n",
              "    }\n",
              "    90% {\n",
              "      border-color: transparent;\n",
              "      border-bottom-color: var(--fill-color);\n",
              "    }\n",
              "  }\n",
              "</style>\n",
              "\n",
              "  <script>\n",
              "    async function quickchart(key) {\n",
              "      const quickchartButtonEl =\n",
              "        document.querySelector('#' + key + ' button');\n",
              "      quickchartButtonEl.disabled = true;  // To prevent multiple clicks.\n",
              "      quickchartButtonEl.classList.add('colab-df-spinner');\n",
              "      try {\n",
              "        const charts = await google.colab.kernel.invokeFunction(\n",
              "            'suggestCharts', [key], {});\n",
              "      } catch (error) {\n",
              "        console.error('Error during call to suggestCharts:', error);\n",
              "      }\n",
              "      quickchartButtonEl.classList.remove('colab-df-spinner');\n",
              "      quickchartButtonEl.classList.add('colab-df-quickchart-complete');\n",
              "    }\n",
              "    (() => {\n",
              "      let quickchartButtonEl =\n",
              "        document.querySelector('#df-4d97a596-5a5e-4877-a411-9a83321199d4 button');\n",
              "      quickchartButtonEl.style.display =\n",
              "        google.colab.kernel.accessAllowed ? 'block' : 'none';\n",
              "    })();\n",
              "  </script>\n",
              "</div>\n",
              "    </div>\n",
              "  </div>\n"
            ]
          },
          "metadata": {},
          "execution_count": 15
        }
      ]
    },
    {
      "cell_type": "markdown",
      "metadata": {
        "id": "u-Pw3ZfYeFtn"
      },
      "source": [
        "## Getting average curves per client"
      ]
    },
    {
      "cell_type": "code",
      "metadata": {
        "id": "dvsE97B3eFto"
      },
      "source": [
        "data = data_13_14.copy() # weekdays weekends, data2011, data2012, data2013, data2014"
      ],
      "execution_count": 16,
      "outputs": []
    },
    {
      "cell_type": "code",
      "metadata": {
        "id": "Xge2M5FGeFtq"
      },
      "source": [
        "data['hour'] = data.index.map(lambda x: x[11:])"
      ],
      "execution_count": 17,
      "outputs": []
    },
    {
      "cell_type": "code",
      "metadata": {
        "id": "IyJgCOkoeFts",
        "colab": {
          "base_uri": "https://localhost:8080/",
          "height": 245
        },
        "outputId": "1215d8d5-0673-4e18-f921-64b092fccfaa"
      },
      "source": [
        "data.head(3)"
      ],
      "execution_count": 18,
      "outputs": [
        {
          "output_type": "execute_result",
          "data": {
            "text/plain": [
              "                       MT_001     MT_002    MT_003      MT_004     MT_005  \\\n",
              "2013-01-01 00:15:00  2.538071  22.759602  2.606429  138.211382  63.414634   \n",
              "2013-01-01 00:30:00  1.269036  22.759602  2.606429  138.211382  63.414634   \n",
              "2013-01-01 00:45:00  2.538071  22.759602  2.606429  134.146341  60.975610   \n",
              "\n",
              "                         MT_006    MT_007      MT_008     MT_009     MT_010  \\\n",
              "2013-01-01 00:15:00  255.952381  4.522329  239.057239  57.692308  78.494624   \n",
              "2013-01-01 00:30:00  264.880952  5.652911  228.956229  57.692308  76.344086   \n",
              "2013-01-01 00:45:00  250.000000  5.652911  239.057239  54.195804  76.344086   \n",
              "\n",
              "                     ...   MT_362      MT_363       MT_364     MT_365  \\\n",
              "2013-01-01 00:15:00  ...  22300.0  886.075949  1000.000000  16.949153   \n",
              "2013-01-01 00:30:00  ...  21000.0  864.978903   909.090909  18.252934   \n",
              "2013-01-01 00:45:00  ...  18200.0  860.759494   840.909091  16.949153   \n",
              "\n",
              "                       MT_366      MT_367     MT_368      MT_369       MT_370  \\\n",
              "2013-01-01 00:15:00  6.436513  616.330114  76.794658  731.671554  8086.486486   \n",
              "2013-01-01 00:30:00  3.510825  564.530290  76.794658  727.272727  8086.486486   \n",
              "2013-01-01 00:45:00  5.851375  590.869183  68.447412  730.205279  7848.648649   \n",
              "\n",
              "                         hour  \n",
              "2013-01-01 00:15:00  00:15:00  \n",
              "2013-01-01 00:30:00  00:30:00  \n",
              "2013-01-01 00:45:00  00:45:00  \n",
              "\n",
              "[3 rows x 350 columns]"
            ],
            "text/html": [
              "\n",
              "  <div id=\"df-88cea96e-95d7-4999-8ccf-806a92c537af\" class=\"colab-df-container\">\n",
              "    <div>\n",
              "<style scoped>\n",
              "    .dataframe tbody tr th:only-of-type {\n",
              "        vertical-align: middle;\n",
              "    }\n",
              "\n",
              "    .dataframe tbody tr th {\n",
              "        vertical-align: top;\n",
              "    }\n",
              "\n",
              "    .dataframe thead th {\n",
              "        text-align: right;\n",
              "    }\n",
              "</style>\n",
              "<table border=\"1\" class=\"dataframe\">\n",
              "  <thead>\n",
              "    <tr style=\"text-align: right;\">\n",
              "      <th></th>\n",
              "      <th>MT_001</th>\n",
              "      <th>MT_002</th>\n",
              "      <th>MT_003</th>\n",
              "      <th>MT_004</th>\n",
              "      <th>MT_005</th>\n",
              "      <th>MT_006</th>\n",
              "      <th>MT_007</th>\n",
              "      <th>MT_008</th>\n",
              "      <th>MT_009</th>\n",
              "      <th>MT_010</th>\n",
              "      <th>...</th>\n",
              "      <th>MT_362</th>\n",
              "      <th>MT_363</th>\n",
              "      <th>MT_364</th>\n",
              "      <th>MT_365</th>\n",
              "      <th>MT_366</th>\n",
              "      <th>MT_367</th>\n",
              "      <th>MT_368</th>\n",
              "      <th>MT_369</th>\n",
              "      <th>MT_370</th>\n",
              "      <th>hour</th>\n",
              "    </tr>\n",
              "  </thead>\n",
              "  <tbody>\n",
              "    <tr>\n",
              "      <th>2013-01-01 00:15:00</th>\n",
              "      <td>2.538071</td>\n",
              "      <td>22.759602</td>\n",
              "      <td>2.606429</td>\n",
              "      <td>138.211382</td>\n",
              "      <td>63.414634</td>\n",
              "      <td>255.952381</td>\n",
              "      <td>4.522329</td>\n",
              "      <td>239.057239</td>\n",
              "      <td>57.692308</td>\n",
              "      <td>78.494624</td>\n",
              "      <td>...</td>\n",
              "      <td>22300.0</td>\n",
              "      <td>886.075949</td>\n",
              "      <td>1000.000000</td>\n",
              "      <td>16.949153</td>\n",
              "      <td>6.436513</td>\n",
              "      <td>616.330114</td>\n",
              "      <td>76.794658</td>\n",
              "      <td>731.671554</td>\n",
              "      <td>8086.486486</td>\n",
              "      <td>00:15:00</td>\n",
              "    </tr>\n",
              "    <tr>\n",
              "      <th>2013-01-01 00:30:00</th>\n",
              "      <td>1.269036</td>\n",
              "      <td>22.759602</td>\n",
              "      <td>2.606429</td>\n",
              "      <td>138.211382</td>\n",
              "      <td>63.414634</td>\n",
              "      <td>264.880952</td>\n",
              "      <td>5.652911</td>\n",
              "      <td>228.956229</td>\n",
              "      <td>57.692308</td>\n",
              "      <td>76.344086</td>\n",
              "      <td>...</td>\n",
              "      <td>21000.0</td>\n",
              "      <td>864.978903</td>\n",
              "      <td>909.090909</td>\n",
              "      <td>18.252934</td>\n",
              "      <td>3.510825</td>\n",
              "      <td>564.530290</td>\n",
              "      <td>76.794658</td>\n",
              "      <td>727.272727</td>\n",
              "      <td>8086.486486</td>\n",
              "      <td>00:30:00</td>\n",
              "    </tr>\n",
              "    <tr>\n",
              "      <th>2013-01-01 00:45:00</th>\n",
              "      <td>2.538071</td>\n",
              "      <td>22.759602</td>\n",
              "      <td>2.606429</td>\n",
              "      <td>134.146341</td>\n",
              "      <td>60.975610</td>\n",
              "      <td>250.000000</td>\n",
              "      <td>5.652911</td>\n",
              "      <td>239.057239</td>\n",
              "      <td>54.195804</td>\n",
              "      <td>76.344086</td>\n",
              "      <td>...</td>\n",
              "      <td>18200.0</td>\n",
              "      <td>860.759494</td>\n",
              "      <td>840.909091</td>\n",
              "      <td>16.949153</td>\n",
              "      <td>5.851375</td>\n",
              "      <td>590.869183</td>\n",
              "      <td>68.447412</td>\n",
              "      <td>730.205279</td>\n",
              "      <td>7848.648649</td>\n",
              "      <td>00:45:00</td>\n",
              "    </tr>\n",
              "  </tbody>\n",
              "</table>\n",
              "<p>3 rows × 350 columns</p>\n",
              "</div>\n",
              "    <div class=\"colab-df-buttons\">\n",
              "\n",
              "  <div class=\"colab-df-container\">\n",
              "    <button class=\"colab-df-convert\" onclick=\"convertToInteractive('df-88cea96e-95d7-4999-8ccf-806a92c537af')\"\n",
              "            title=\"Convert this dataframe to an interactive table.\"\n",
              "            style=\"display:none;\">\n",
              "\n",
              "  <svg xmlns=\"http://www.w3.org/2000/svg\" height=\"24px\" viewBox=\"0 -960 960 960\">\n",
              "    <path d=\"M120-120v-720h720v720H120Zm60-500h600v-160H180v160Zm220 220h160v-160H400v160Zm0 220h160v-160H400v160ZM180-400h160v-160H180v160Zm440 0h160v-160H620v160ZM180-180h160v-160H180v160Zm440 0h160v-160H620v160Z\"/>\n",
              "  </svg>\n",
              "    </button>\n",
              "\n",
              "  <style>\n",
              "    .colab-df-container {\n",
              "      display:flex;\n",
              "      gap: 12px;\n",
              "    }\n",
              "\n",
              "    .colab-df-convert {\n",
              "      background-color: #E8F0FE;\n",
              "      border: none;\n",
              "      border-radius: 50%;\n",
              "      cursor: pointer;\n",
              "      display: none;\n",
              "      fill: #1967D2;\n",
              "      height: 32px;\n",
              "      padding: 0 0 0 0;\n",
              "      width: 32px;\n",
              "    }\n",
              "\n",
              "    .colab-df-convert:hover {\n",
              "      background-color: #E2EBFA;\n",
              "      box-shadow: 0px 1px 2px rgba(60, 64, 67, 0.3), 0px 1px 3px 1px rgba(60, 64, 67, 0.15);\n",
              "      fill: #174EA6;\n",
              "    }\n",
              "\n",
              "    .colab-df-buttons div {\n",
              "      margin-bottom: 4px;\n",
              "    }\n",
              "\n",
              "    [theme=dark] .colab-df-convert {\n",
              "      background-color: #3B4455;\n",
              "      fill: #D2E3FC;\n",
              "    }\n",
              "\n",
              "    [theme=dark] .colab-df-convert:hover {\n",
              "      background-color: #434B5C;\n",
              "      box-shadow: 0px 1px 3px 1px rgba(0, 0, 0, 0.15);\n",
              "      filter: drop-shadow(0px 1px 2px rgba(0, 0, 0, 0.3));\n",
              "      fill: #FFFFFF;\n",
              "    }\n",
              "  </style>\n",
              "\n",
              "    <script>\n",
              "      const buttonEl =\n",
              "        document.querySelector('#df-88cea96e-95d7-4999-8ccf-806a92c537af button.colab-df-convert');\n",
              "      buttonEl.style.display =\n",
              "        google.colab.kernel.accessAllowed ? 'block' : 'none';\n",
              "\n",
              "      async function convertToInteractive(key) {\n",
              "        const element = document.querySelector('#df-88cea96e-95d7-4999-8ccf-806a92c537af');\n",
              "        const dataTable =\n",
              "          await google.colab.kernel.invokeFunction('convertToInteractive',\n",
              "                                                    [key], {});\n",
              "        if (!dataTable) return;\n",
              "\n",
              "        const docLinkHtml = 'Like what you see? Visit the ' +\n",
              "          '<a target=\"_blank\" href=https://colab.research.google.com/notebooks/data_table.ipynb>data table notebook</a>'\n",
              "          + ' to learn more about interactive tables.';\n",
              "        element.innerHTML = '';\n",
              "        dataTable['output_type'] = 'display_data';\n",
              "        await google.colab.output.renderOutput(dataTable, element);\n",
              "        const docLink = document.createElement('div');\n",
              "        docLink.innerHTML = docLinkHtml;\n",
              "        element.appendChild(docLink);\n",
              "      }\n",
              "    </script>\n",
              "  </div>\n",
              "\n",
              "\n",
              "<div id=\"df-e54c5506-c91c-469e-9b79-c71095ed5901\">\n",
              "  <button class=\"colab-df-quickchart\" onclick=\"quickchart('df-e54c5506-c91c-469e-9b79-c71095ed5901')\"\n",
              "            title=\"Suggest charts.\"\n",
              "            style=\"display:none;\">\n",
              "\n",
              "<svg xmlns=\"http://www.w3.org/2000/svg\" height=\"24px\"viewBox=\"0 0 24 24\"\n",
              "     width=\"24px\">\n",
              "    <g>\n",
              "        <path d=\"M19 3H5c-1.1 0-2 .9-2 2v14c0 1.1.9 2 2 2h14c1.1 0 2-.9 2-2V5c0-1.1-.9-2-2-2zM9 17H7v-7h2v7zm4 0h-2V7h2v10zm4 0h-2v-4h2v4z\"/>\n",
              "    </g>\n",
              "</svg>\n",
              "  </button>\n",
              "\n",
              "<style>\n",
              "  .colab-df-quickchart {\n",
              "      --bg-color: #E8F0FE;\n",
              "      --fill-color: #1967D2;\n",
              "      --hover-bg-color: #E2EBFA;\n",
              "      --hover-fill-color: #174EA6;\n",
              "      --disabled-fill-color: #AAA;\n",
              "      --disabled-bg-color: #DDD;\n",
              "  }\n",
              "\n",
              "  [theme=dark] .colab-df-quickchart {\n",
              "      --bg-color: #3B4455;\n",
              "      --fill-color: #D2E3FC;\n",
              "      --hover-bg-color: #434B5C;\n",
              "      --hover-fill-color: #FFFFFF;\n",
              "      --disabled-bg-color: #3B4455;\n",
              "      --disabled-fill-color: #666;\n",
              "  }\n",
              "\n",
              "  .colab-df-quickchart {\n",
              "    background-color: var(--bg-color);\n",
              "    border: none;\n",
              "    border-radius: 50%;\n",
              "    cursor: pointer;\n",
              "    display: none;\n",
              "    fill: var(--fill-color);\n",
              "    height: 32px;\n",
              "    padding: 0;\n",
              "    width: 32px;\n",
              "  }\n",
              "\n",
              "  .colab-df-quickchart:hover {\n",
              "    background-color: var(--hover-bg-color);\n",
              "    box-shadow: 0 1px 2px rgba(60, 64, 67, 0.3), 0 1px 3px 1px rgba(60, 64, 67, 0.15);\n",
              "    fill: var(--button-hover-fill-color);\n",
              "  }\n",
              "\n",
              "  .colab-df-quickchart-complete:disabled,\n",
              "  .colab-df-quickchart-complete:disabled:hover {\n",
              "    background-color: var(--disabled-bg-color);\n",
              "    fill: var(--disabled-fill-color);\n",
              "    box-shadow: none;\n",
              "  }\n",
              "\n",
              "  .colab-df-spinner {\n",
              "    border: 2px solid var(--fill-color);\n",
              "    border-color: transparent;\n",
              "    border-bottom-color: var(--fill-color);\n",
              "    animation:\n",
              "      spin 1s steps(1) infinite;\n",
              "  }\n",
              "\n",
              "  @keyframes spin {\n",
              "    0% {\n",
              "      border-color: transparent;\n",
              "      border-bottom-color: var(--fill-color);\n",
              "      border-left-color: var(--fill-color);\n",
              "    }\n",
              "    20% {\n",
              "      border-color: transparent;\n",
              "      border-left-color: var(--fill-color);\n",
              "      border-top-color: var(--fill-color);\n",
              "    }\n",
              "    30% {\n",
              "      border-color: transparent;\n",
              "      border-left-color: var(--fill-color);\n",
              "      border-top-color: var(--fill-color);\n",
              "      border-right-color: var(--fill-color);\n",
              "    }\n",
              "    40% {\n",
              "      border-color: transparent;\n",
              "      border-right-color: var(--fill-color);\n",
              "      border-top-color: var(--fill-color);\n",
              "    }\n",
              "    60% {\n",
              "      border-color: transparent;\n",
              "      border-right-color: var(--fill-color);\n",
              "    }\n",
              "    80% {\n",
              "      border-color: transparent;\n",
              "      border-right-color: var(--fill-color);\n",
              "      border-bottom-color: var(--fill-color);\n",
              "    }\n",
              "    90% {\n",
              "      border-color: transparent;\n",
              "      border-bottom-color: var(--fill-color);\n",
              "    }\n",
              "  }\n",
              "</style>\n",
              "\n",
              "  <script>\n",
              "    async function quickchart(key) {\n",
              "      const quickchartButtonEl =\n",
              "        document.querySelector('#' + key + ' button');\n",
              "      quickchartButtonEl.disabled = true;  // To prevent multiple clicks.\n",
              "      quickchartButtonEl.classList.add('colab-df-spinner');\n",
              "      try {\n",
              "        const charts = await google.colab.kernel.invokeFunction(\n",
              "            'suggestCharts', [key], {});\n",
              "      } catch (error) {\n",
              "        console.error('Error during call to suggestCharts:', error);\n",
              "      }\n",
              "      quickchartButtonEl.classList.remove('colab-df-spinner');\n",
              "      quickchartButtonEl.classList.add('colab-df-quickchart-complete');\n",
              "    }\n",
              "    (() => {\n",
              "      let quickchartButtonEl =\n",
              "        document.querySelector('#df-e54c5506-c91c-469e-9b79-c71095ed5901 button');\n",
              "      quickchartButtonEl.style.display =\n",
              "        google.colab.kernel.accessAllowed ? 'block' : 'none';\n",
              "    })();\n",
              "  </script>\n",
              "</div>\n",
              "    </div>\n",
              "  </div>\n"
            ]
          },
          "metadata": {},
          "execution_count": 18
        }
      ]
    },
    {
      "cell_type": "markdown",
      "metadata": {
        "id": "-iMNh_XJeFtu"
      },
      "source": [
        "### Getting average curves per client"
      ]
    },
    {
      "cell_type": "code",
      "metadata": {
        "id": "Ta0Pv4UueFtv",
        "colab": {
          "base_uri": "https://localhost:8080/"
        },
        "outputId": "9511ac31-1e19-4be0-a2bb-712859e508c7"
      },
      "source": [
        "datagrouped = data.groupby(\"hour\")\n",
        "average_curves = datagrouped.agg(\"mean\")\n",
        "average_curves.shape"
      ],
      "execution_count": 19,
      "outputs": [
        {
          "output_type": "execute_result",
          "data": {
            "text/plain": [
              "(96, 349)"
            ]
          },
          "metadata": {},
          "execution_count": 19
        }
      ]
    },
    {
      "cell_type": "markdown",
      "metadata": {
        "id": "9-UI2QT3eFtz"
      },
      "source": [
        "#### The dataframe average_curves contains the 349 typical weekday electric demands\n",
        "\n",
        "#### We now divide each curve by its mean, so that all curves have mean 1"
      ]
    },
    {
      "cell_type": "code",
      "metadata": {
        "id": "pedcHflceFt0"
      },
      "source": [
        "average_curves_norm = average_curves/(average_curves.mean())"
      ],
      "execution_count": 20,
      "outputs": []
    },
    {
      "cell_type": "markdown",
      "metadata": {
        "id": "Q4TAlxigeFt2"
      },
      "source": [
        "#### Plot the first 2 and last 2 clients"
      ]
    },
    {
      "cell_type": "code",
      "metadata": {
        "id": "jYVLs9z9eFt2",
        "colab": {
          "base_uri": "https://localhost:8080/",
          "height": 449
        },
        "outputId": "decda51f-131b-47fd-8547-e797dfa1a91e"
      },
      "source": [
        "average_curves_norm[['MT_001','MT_002','MT_369','MT_370']].plot()\n",
        "plt.show()"
      ],
      "execution_count": 21,
      "outputs": [
        {
          "output_type": "display_data",
          "data": {
            "text/plain": [
              "<Figure size 640x480 with 1 Axes>"
            ],
            "image/png": "[encoded data removed]"
          },
          "metadata": {}
        }
      ]
    },
    {
      "cell_type": "markdown",
      "metadata": {
        "id": "_Wtuy8SYeFt8"
      },
      "source": [
        "## Exercise 1:\n",
        "\n",
        "a. Using the functions described in Module 3, determine what is the optimal number of clusters based on _intertia_ and based on _silhouette_. Justify your choice\n",
        "\n",
        "b. Make a plot for each cluster, that includes:\n",
        "    - The number of clients in the cluster (you can put this in the title of the plot)\n",
        "    - All the curves in the cluster\n",
        "    - The curve corresponding to the centroid of the cluster (make this curve thicker to distinguish it from the individual curves)\n",
        "    \n",
        "You can do 2 separate plots for each cluster if you prefer (one for the individual curves, one for the centroid)"
      ]
    },
    {
      "cell_type": "code",
      "source": [],
      "metadata": {
        "id": "eYMlF-6uqTAI"
      },
      "execution_count": 21,
      "outputs": []
    },
    {
      "cell_type": "code",
      "metadata": {
        "id": "aCeIaArFJUnR"
      },
      "source": [
        "#function for calculating inertia\n",
        "def getInertia(X,kmeans):\n",
        "    ''' This function returns the exact same value as the attribute inertia_ of kmeans'''\n",
        "    inertia = 0\n",
        "    for J in range(len(X)):\n",
        "        inertia = inertia + np.linalg.norm(X[J] - kmeans.cluster_centers_[kmeans.labels_[J]])**2\n",
        "    return inertia"
      ],
      "execution_count": 22,
      "outputs": []
    },
    {
      "cell_type": "markdown",
      "metadata": {
        "id": "ozCK5tLiMD9h"
      },
      "source": [
        "Clustering Analysis on the average normizalied curves"
      ]
    },
    {
      "cell_type": "code",
      "metadata": {
        "id": "BxuYK6tGMD9i"
      },
      "source": [
        "X = average_curves_norm.copy()\n",
        "X = np.array(X.T) # put it on the right format"
      ],
      "execution_count": 23,
      "outputs": []
    },
    {
      "cell_type": "code",
      "metadata": {
        "id": "59xcTJSSJUnW",
        "colab": {
          "base_uri": "https://localhost:8080/"
        },
        "outputId": "d262ca6a-1bff-4399-9508-07f2701b3b83"
      },
      "source": [
        "#try different K values for clustering and find the optimal K\n",
        "inertias_1 = []\n",
        "silhouette_avgs = []\n",
        "max_K = 15\n",
        "for k in np.arange(1,max_K+1):\n",
        "    kmeans = KMeans(n_clusters=k, random_state=0).fit(X)\n",
        "    inertias_1.append(kmeans.inertia_)\n",
        "    if k>1:\n",
        "        silhouette_avgs.append(silhouette_score(X, kmeans.labels_))"
      ],
      "execution_count": 24,
      "outputs": [
        {
          "output_type": "stream",
          "name": "stderr",
          "text": [
            "/usr/local/lib/python3.10/dist-packages/sklearn/cluster/_kmeans.py:870: FutureWarning: The default value of `n_init` will change from 10 to 'auto' in 1.4. Set the value of `n_init` explicitly to suppress the warning\n",
            "  warnings.warn(\n",
            "/usr/local/lib/python3.10/dist-packages/sklearn/cluster/_kmeans.py:870: FutureWarning: The default value of `n_init` will change from 10 to 'auto' in 1.4. Set the value of `n_init` explicitly to suppress the warning\n",
            "  warnings.warn(\n",
            "/usr/local/lib/python3.10/dist-packages/sklearn/cluster/_kmeans.py:870: FutureWarning: The default value of `n_init` will change from 10 to 'auto' in 1.4. Set the value of `n_init` explicitly to suppress the warning\n",
            "  warnings.warn(\n",
            "/usr/local/lib/python3.10/dist-packages/sklearn/cluster/_kmeans.py:870: FutureWarning: The default value of `n_init` will change from 10 to 'auto' in 1.4. Set the value of `n_init` explicitly to suppress the warning\n",
            "  warnings.warn(\n",
            "/usr/local/lib/python3.10/dist-packages/sklearn/cluster/_kmeans.py:870: FutureWarning: The default value of `n_init` will change from 10 to 'auto' in 1.4. Set the value of `n_init` explicitly to suppress the warning\n",
            "  warnings.warn(\n",
            "/usr/local/lib/python3.10/dist-packages/sklearn/cluster/_kmeans.py:870: FutureWarning: The default value of `n_init` will change from 10 to 'auto' in 1.4. Set the value of `n_init` explicitly to suppress the warning\n",
            "  warnings.warn(\n",
            "/usr/local/lib/python3.10/dist-packages/sklearn/cluster/_kmeans.py:870: FutureWarning: The default value of `n_init` will change from 10 to 'auto' in 1.4. Set the value of `n_init` explicitly to suppress the warning\n",
            "  warnings.warn(\n",
            "/usr/local/lib/python3.10/dist-packages/sklearn/cluster/_kmeans.py:870: FutureWarning: The default value of `n_init` will change from 10 to 'auto' in 1.4. Set the value of `n_init` explicitly to suppress the warning\n",
            "  warnings.warn(\n",
            "/usr/local/lib/python3.10/dist-packages/sklearn/cluster/_kmeans.py:870: FutureWarning: The default value of `n_init` will change from 10 to 'auto' in 1.4. Set the value of `n_init` explicitly to suppress the warning\n",
            "  warnings.warn(\n",
            "/usr/local/lib/python3.10/dist-packages/sklearn/cluster/_kmeans.py:870: FutureWarning: The default value of `n_init` will change from 10 to 'auto' in 1.4. Set the value of `n_init` explicitly to suppress the warning\n",
            "  warnings.warn(\n",
            "/usr/local/lib/python3.10/dist-packages/sklearn/cluster/_kmeans.py:870: FutureWarning: The default value of `n_init` will change from 10 to 'auto' in 1.4. Set the value of `n_init` explicitly to suppress the warning\n",
            "  warnings.warn(\n",
            "/usr/local/lib/python3.10/dist-packages/sklearn/cluster/_kmeans.py:870: FutureWarning: The default value of `n_init` will change from 10 to 'auto' in 1.4. Set the value of `n_init` explicitly to suppress the warning\n",
            "  warnings.warn(\n",
            "/usr/local/lib/python3.10/dist-packages/sklearn/cluster/_kmeans.py:870: FutureWarning: The default value of `n_init` will change from 10 to 'auto' in 1.4. Set the value of `n_init` explicitly to suppress the warning\n",
            "  warnings.warn(\n",
            "/usr/local/lib/python3.10/dist-packages/sklearn/cluster/_kmeans.py:870: FutureWarning: The default value of `n_init` will change from 10 to 'auto' in 1.4. Set the value of `n_init` explicitly to suppress the warning\n",
            "  warnings.warn(\n",
            "/usr/local/lib/python3.10/dist-packages/sklearn/cluster/_kmeans.py:870: FutureWarning: The default value of `n_init` will change from 10 to 'auto' in 1.4. Set the value of `n_init` explicitly to suppress the warning\n",
            "  warnings.warn(\n"
          ]
        }
      ]
    },
    {
      "cell_type": "code",
      "metadata": {
        "id": "0dfJSVPKMB0-",
        "colab": {
          "base_uri": "https://localhost:8080/"
        },
        "outputId": "a054f406-6a72-41ce-c292-f812848cf426"
      },
      "source": [
        "inertias_1"
      ],
      "execution_count": 25,
      "outputs": [
        {
          "output_type": "execute_result",
          "data": {
            "text/plain": [
              "[1707.2294200296335,\n",
              " 1175.5272754230887,\n",
              " 865.96772088043,\n",
              " 657.6442657822122,\n",
              " 580.0050647357746,\n",
              " 476.4846803515834,\n",
              " 426.4712819038532,\n",
              " 391.54379279437876,\n",
              " 367.8828030185176,\n",
              " 349.5601929166494,\n",
              " 333.92500350831295,\n",
              " 315.9614911706733,\n",
              " 304.0805254852022,\n",
              " 291.1112938158415,\n",
              " 286.41840350731854]"
            ]
          },
          "metadata": {},
          "execution_count": 25
        }
      ]
    },
    {
      "cell_type": "code",
      "metadata": {
        "id": "dcib9gxnMBy0",
        "colab": {
          "base_uri": "https://localhost:8080/"
        },
        "outputId": "4788da95-1fd6-458a-dd30-112c38ef4621"
      },
      "source": [
        "silhouette_avgs"
      ],
      "execution_count": 26,
      "outputs": [
        {
          "output_type": "execute_result",
          "data": {
            "text/plain": [
              "[0.3719183856538874,\n",
              " 0.4224469251347661,\n",
              " 0.4296355372224769,\n",
              " 0.4226849822459891,\n",
              " 0.4289726637003929,\n",
              " 0.39635138162651257,\n",
              " 0.27186604010600196,\n",
              " 0.25021673306058095,\n",
              " 0.23753095057335372,\n",
              " 0.19087159330654677,\n",
              " 0.21201916396953266,\n",
              " 0.1864987745647598,\n",
              " 0.19579983854305263,\n",
              " 0.20665171047121306]"
            ]
          },
          "metadata": {},
          "execution_count": 26
        }
      ]
    },
    {
      "cell_type": "code",
      "metadata": {
        "id": "m-WoUU2AMBwS",
        "colab": {
          "base_uri": "https://localhost:8080/",
          "height": 432
        },
        "outputId": "1d61185a-2840-43b3-ce9a-7d99e29fbd4a"
      },
      "source": [
        "plt.figure(figsize=(20,5))\n",
        "\n",
        "plt.subplot(1,3,1)\n",
        "plt.title(\"Inertia_1: sum square distances to closest cluster\")\n",
        "plt.plot(np.arange(1,max_K+1),inertias_1)\n",
        "plt.xticks(np.arange(1,max_K+1))\n",
        "plt.xlabel('number of clusters (the smaller the better)')\n",
        "plt.grid()\n",
        "\n",
        "plt.subplot(1,3,3)\n",
        "plt.title(\"Average Silhouette\")\n",
        "plt.plot(np.arange(2,max_K+1), silhouette_avgs)\n",
        "plt.xticks(np.arange(2,max_K+1))\n",
        "plt.xlabel('number of clusters (the larger the better)')\n",
        "plt.grid()\n",
        "\n",
        "plt.show()"
      ],
      "execution_count": 27,
      "outputs": [
        {
          "output_type": "display_data",
          "data": {
            "text/plain": [
              "<Figure size 2000x500 with 2 Axes>"
            ],
            "image/png": "[encoded data removed]"
          },
          "metadata": {}
        }
      ]
    },
    {
      "cell_type": "code",
      "metadata": {
        "id": "2q5rBG0kMBts"
      },
      "source": [],
      "execution_count": 27,
      "outputs": []
    },
    {
      "cell_type": "markdown",
      "metadata": {
        "id": "y4szukndeFt9"
      },
      "source": [
        "## Exercises 2\n",
        "\n",
        "In this exercise you work with the daily curves of 1 single client.\n",
        "\n",
        "First you create a list of arrays, each array containing a normalized curve for a day. The list contains 730 arrays, one for each of the days of 2013 and 2014.\n",
        "\n",
        "a. Determine the optimal value for k-means.\n",
        "\n",
        "b. What are the clusters that you obtained represent?"
      ]
    },
    {
      "cell_type": "code",
      "metadata": {
        "id": "xuV6O2-leFt-"
      },
      "source": [
        "client = 'MT_022'\n",
        "oneClient = data_13_14[client]\n",
        "X = [] # a list of arrays, each array being a normalized curve for a day\n",
        "for J in range(2*365):\n",
        "    X.extend([np.array(oneClient[J*96:(J+1)*96])])#/np.mean(oneClient[J*96:(J+1)*96])])"
      ],
      "execution_count": 28,
      "outputs": []
    },
    {
      "cell_type": "markdown",
      "metadata": {
        "id": "EyXcYKJWeFuA"
      },
      "source": [
        "#### The following cell generates a list of all the days in the two years 2013-2014, which is helpful to answer part (b)"
      ]
    },
    {
      "cell_type": "code",
      "metadata": {
        "id": "ZKxlgTXReFuB"
      },
      "source": [
        "from datetime import date, timedelta\n",
        "\n",
        "d1 = date(2013, 1, 1)  # start date\n",
        "d2 = date(2014, 12, 31)  # end date\n",
        "delta = d2 - d1         # timedelta\n",
        "daysyear = []\n",
        "D = {0:'mon', 1:'tue', 2:'wed', 3:'thu', 4:'fri', 5:'sat', 6:'sun'}\n",
        "for i in range(delta.days + 1):\n",
        "    daysyear.extend([D[(d1 + timedelta(days=i)).weekday()]+\"-\"+str(d1 + timedelta(days=i))])"
      ],
      "execution_count": 29,
      "outputs": []
    },
    {
      "cell_type": "markdown",
      "metadata": {
        "id": "K5a13p1geFuE"
      },
      "source": [
        "#### The following cell shows you how to do the following: given a list L, and a list of booleans B (True, False), get the sublist of L that corresponds to the True values in B. For example if L=[1,2,3,4] and B=[False,True,True,False], then the results is [2,3]. This is also helpful for pard (b)"
      ]
    },
    {
      "cell_type": "code",
      "metadata": {
        "id": "CXloX8I8eFuF",
        "colab": {
          "base_uri": "https://localhost:8080/"
        },
        "outputId": "2c3f30c0-6e13-45df-967d-94a2a725074d"
      },
      "source": [
        "from itertools import compress\n",
        "L = [1,2,3,4]\n",
        "B = [False, True, True, False]\n",
        "list(compress(L, B))"
      ],
      "execution_count": 30,
      "outputs": [
        {
          "output_type": "execute_result",
          "data": {
            "text/plain": [
              "[2, 3]"
            ]
          },
          "metadata": {},
          "execution_count": 30
        }
      ]
    },
    {
      "cell_type": "code",
      "metadata": {
        "id": "mLpMvp-w8-99",
        "colab": {
          "base_uri": "https://localhost:8080/"
        },
        "outputId": "fb9b44af-6f25-44d8-8bf7-c71112e6a8f8"
      },
      "source": [
        "#try different K values for clustering and find the optimal K\n",
        "inertias_1 = []\n",
        "silhouette_avgs = []\n",
        "kmeans_list = []\n",
        "max_K = 15\n",
        "for k in np.arange(1,max_K+1):\n",
        "    kmeans = KMeans(n_clusters=k, random_state=0).fit(X)\n",
        "    kmeans_list.append(kmeans)\n",
        "    inertias_1.append(kmeans.inertia_)\n",
        "    if k>1:\n",
        "        silhouette_avgs.append(silhouette_score(X, kmeans.labels_))"
      ],
      "execution_count": 33,
      "outputs": [
        {
          "output_type": "stream",
          "name": "stderr",
          "text": [
            "/usr/local/lib/python3.10/dist-packages/sklearn/cluster/_kmeans.py:870: FutureWarning: The default value of `n_init` will change from 10 to 'auto' in 1.4. Set the value of `n_init` explicitly to suppress the warning\n",
            "  warnings.warn(\n",
            "/usr/local/lib/python3.10/dist-packages/sklearn/cluster/_kmeans.py:870: FutureWarning: The default value of `n_init` will change from 10 to 'auto' in 1.4. Set the value of `n_init` explicitly to suppress the warning\n",
            "  warnings.warn(\n",
            "/usr/local/lib/python3.10/dist-packages/sklearn/cluster/_kmeans.py:870: FutureWarning: The default value of `n_init` will change from 10 to 'auto' in 1.4. Set the value of `n_init` explicitly to suppress the warning\n",
            "  warnings.warn(\n",
            "/usr/local/lib/python3.10/dist-packages/sklearn/cluster/_kmeans.py:870: FutureWarning: The default value of `n_init` will change from 10 to 'auto' in 1.4. Set the value of `n_init` explicitly to suppress the warning\n",
            "  warnings.warn(\n",
            "/usr/local/lib/python3.10/dist-packages/sklearn/cluster/_kmeans.py:870: FutureWarning: The default value of `n_init` will change from 10 to 'auto' in 1.4. Set the value of `n_init` explicitly to suppress the warning\n",
            "  warnings.warn(\n",
            "/usr/local/lib/python3.10/dist-packages/sklearn/cluster/_kmeans.py:870: FutureWarning: The default value of `n_init` will change from 10 to 'auto' in 1.4. Set the value of `n_init` explicitly to suppress the warning\n",
            "  warnings.warn(\n",
            "/usr/local/lib/python3.10/dist-packages/sklearn/cluster/_kmeans.py:870: FutureWarning: The default value of `n_init` will change from 10 to 'auto' in 1.4. Set the value of `n_init` explicitly to suppress the warning\n",
            "  warnings.warn(\n",
            "/usr/local/lib/python3.10/dist-packages/sklearn/cluster/_kmeans.py:870: FutureWarning: The default value of `n_init` will change from 10 to 'auto' in 1.4. Set the value of `n_init` explicitly to suppress the warning\n",
            "  warnings.warn(\n",
            "/usr/local/lib/python3.10/dist-packages/sklearn/cluster/_kmeans.py:870: FutureWarning: The default value of `n_init` will change from 10 to 'auto' in 1.4. Set the value of `n_init` explicitly to suppress the warning\n",
            "  warnings.warn(\n",
            "/usr/local/lib/python3.10/dist-packages/sklearn/cluster/_kmeans.py:870: FutureWarning: The default value of `n_init` will change from 10 to 'auto' in 1.4. Set the value of `n_init` explicitly to suppress the warning\n",
            "  warnings.warn(\n",
            "/usr/local/lib/python3.10/dist-packages/sklearn/cluster/_kmeans.py:870: FutureWarning: The default value of `n_init` will change from 10 to 'auto' in 1.4. Set the value of `n_init` explicitly to suppress the warning\n",
            "  warnings.warn(\n",
            "/usr/local/lib/python3.10/dist-packages/sklearn/cluster/_kmeans.py:870: FutureWarning: The default value of `n_init` will change from 10 to 'auto' in 1.4. Set the value of `n_init` explicitly to suppress the warning\n",
            "  warnings.warn(\n",
            "/usr/local/lib/python3.10/dist-packages/sklearn/cluster/_kmeans.py:870: FutureWarning: The default value of `n_init` will change from 10 to 'auto' in 1.4. Set the value of `n_init` explicitly to suppress the warning\n",
            "  warnings.warn(\n",
            "/usr/local/lib/python3.10/dist-packages/sklearn/cluster/_kmeans.py:870: FutureWarning: The default value of `n_init` will change from 10 to 'auto' in 1.4. Set the value of `n_init` explicitly to suppress the warning\n",
            "  warnings.warn(\n",
            "/usr/local/lib/python3.10/dist-packages/sklearn/cluster/_kmeans.py:870: FutureWarning: The default value of `n_init` will change from 10 to 'auto' in 1.4. Set the value of `n_init` explicitly to suppress the warning\n",
            "  warnings.warn(\n"
          ]
        }
      ]
    },
    {
      "cell_type": "code",
      "metadata": {
        "id": "G38hXEogMLF5",
        "colab": {
          "base_uri": "https://localhost:8080/",
          "height": 453
        },
        "outputId": "015a0421-3fd1-49b3-8b80-3ddde634df19"
      },
      "source": [
        "plt.figure(figsize=(20,5))\n",
        "\n",
        "plt.subplot(1,3,1)\n",
        "plt.title(\"Inertia_1: sum square distances to closest cluster\")\n",
        "plt.plot(np.arange(1,max_K+1),inertias_1)\n",
        "plt.xticks(np.arange(1,max_K+1))\n",
        "plt.xlabel('number of clusters (the smaller the better)')\n",
        "plt.grid()\n",
        "\n",
        "plt.subplot(1,3,3)\n",
        "plt.title(\"Average Silhouette\")\n",
        "plt.plot(np.arange(2,max_K+1), silhouette_avgs)\n",
        "plt.xticks(np.arange(2,max_K+1))\n",
        "plt.xlabel('number of clusters (the larger the better)')\n",
        "plt.grid()\n",
        "\n",
        "plt.show()"
      ],
      "execution_count": 34,
      "outputs": [
        {
          "output_type": "display_data",
          "data": {
            "text/plain": [
              "<Figure size 2000x500 with 2 Axes>"
            ],
            "image/png": "[encoded data removed]"
          },
          "metadata": {}
        }
      ]
    },
    {
      "cell_type": "code",
      "metadata": {
        "id": "hwigPuuVMLDG"
      },
      "source": [
        "kmeans_k2 = kmeans_list[1]"
      ],
      "execution_count": 36,
      "outputs": []
    },
    {
      "cell_type": "code",
      "metadata": {
        "id": "RLllEFQKMLAi",
        "colab": {
          "base_uri": "https://localhost:8080/"
        },
        "outputId": "f9d0673a-6239-4dfc-b279-c9e9a1630efb"
      },
      "source": [
        "unique, counts = np.unique(kmeans_k2.labels_, return_counts=True)\n",
        "counts"
      ],
      "execution_count": 50,
      "outputs": [
        {
          "output_type": "execute_result",
          "data": {
            "text/plain": [
              "array([219, 511])"
            ]
          },
          "metadata": {},
          "execution_count": 50
        }
      ]
    },
    {
      "cell_type": "code",
      "metadata": {
        "id": "BuxJkUYj9DYk",
        "colab": {
          "base_uri": "https://localhost:8080/",
          "height": 663
        },
        "outputId": "6abe7b38-3e1e-4df4-f795-7c7761ac1c76"
      },
      "source": [
        "plt.subplot(1,2,2)\n",
        "colors = ['red','blue']\n",
        "for J in range(2):\n",
        "    X_J = X[kmeans_k2.labels_==J]\n",
        "    plt.title(\"Reconstructed clusters\")\n",
        "    plt.scatter(X_J[:, 0], X_J[:, 1], c=colors[J], s=10)\n",
        "    plt.xlim(-0.2,1.2)\n",
        "    plt.ylim(-0.2,1.2)\n",
        "    plt.axis('equal')\n",
        "plt.show()"
      ],
      "execution_count": 39,
      "outputs": [
        {
          "output_type": "error",
          "ename": "TypeError",
          "evalue": "ignored",
          "traceback": [
            "\u001b[0;31m---------------------------------------------------------------------------\u001b[0m",
            "\u001b[0;31mTypeError\u001b[0m                                 Traceback (most recent call last)",
            "\u001b[0;32m<ipython-input-39-f25d1f70840f>\u001b[0m in \u001b[0;36m<cell line: 3>\u001b[0;34m()\u001b[0m\n\u001b[1;32m      2\u001b[0m \u001b[0mcolors\u001b[0m \u001b[0;34m=\u001b[0m \u001b[0;34m[\u001b[0m\u001b[0;34m'red'\u001b[0m\u001b[0;34m,\u001b[0m\u001b[0;34m'blue'\u001b[0m\u001b[0;34m]\u001b[0m\u001b[0;34m\u001b[0m\u001b[0;34m\u001b[0m\u001b[0m\n\u001b[1;32m      3\u001b[0m \u001b[0;32mfor\u001b[0m \u001b[0mJ\u001b[0m \u001b[0;32min\u001b[0m \u001b[0mrange\u001b[0m\u001b[0;34m(\u001b[0m\u001b[0;36m2\u001b[0m\u001b[0;34m)\u001b[0m\u001b[0;34m:\u001b[0m\u001b[0;34m\u001b[0m\u001b[0;34m\u001b[0m\u001b[0m\n\u001b[0;32m----> 4\u001b[0;31m     \u001b[0mX_J\u001b[0m \u001b[0;34m=\u001b[0m \u001b[0mX\u001b[0m\u001b[0;34m[\u001b[0m\u001b[0mkmeans_k2\u001b[0m\u001b[0;34m.\u001b[0m\u001b[0mlabels_\u001b[0m\u001b[0;34m==\u001b[0m\u001b[0mJ\u001b[0m\u001b[0;34m]\u001b[0m\u001b[0;34m\u001b[0m\u001b[0;34m\u001b[0m\u001b[0m\n\u001b[0m\u001b[1;32m      5\u001b[0m     \u001b[0mplt\u001b[0m\u001b[0;34m.\u001b[0m\u001b[0mtitle\u001b[0m\u001b[0;34m(\u001b[0m\u001b[0;34m\"Reconstructed clusters\"\u001b[0m\u001b[0;34m)\u001b[0m\u001b[0;34m\u001b[0m\u001b[0;34m\u001b[0m\u001b[0m\n\u001b[1;32m      6\u001b[0m     \u001b[0mplt\u001b[0m\u001b[0;34m.\u001b[0m\u001b[0mscatter\u001b[0m\u001b[0;34m(\u001b[0m\u001b[0mX_J\u001b[0m\u001b[0;34m[\u001b[0m\u001b[0;34m:\u001b[0m\u001b[0;34m,\u001b[0m \u001b[0;36m0\u001b[0m\u001b[0;34m]\u001b[0m\u001b[0;34m,\u001b[0m \u001b[0mX_J\u001b[0m\u001b[0;34m[\u001b[0m\u001b[0;34m:\u001b[0m\u001b[0;34m,\u001b[0m \u001b[0;36m1\u001b[0m\u001b[0;34m]\u001b[0m\u001b[0;34m,\u001b[0m \u001b[0mc\u001b[0m\u001b[0;34m=\u001b[0m\u001b[0mcolors\u001b[0m\u001b[0;34m[\u001b[0m\u001b[0mJ\u001b[0m\u001b[0;34m]\u001b[0m\u001b[0;34m,\u001b[0m \u001b[0ms\u001b[0m\u001b[0;34m=\u001b[0m\u001b[0;36m10\u001b[0m\u001b[0;34m)\u001b[0m\u001b[0;34m\u001b[0m\u001b[0;34m\u001b[0m\u001b[0m\n",
            "\u001b[0;31mTypeError\u001b[0m: only integer scalar arrays can be converted to a scalar index"
          ]
        },
        {
          "output_type": "display_data",
          "data": {
            "text/plain": [
              "<Figure size 640x480 with 1 Axes>"
            ],
            "image/png": "[encoded data removed]"
          },
          "metadata": {}
        }
      ]
    },
    {
      "cell_type": "code",
      "source": [
        "len(X)"
      ],
      "metadata": {
        "colab": {
          "base_uri": "https://localhost:8080/"
        },
        "id": "qauoVDUiySkT",
        "outputId": "427eadc6-4237-49f8-beaa-ca59993966ec"
      },
      "execution_count": 46,
      "outputs": [
        {
          "output_type": "execute_result",
          "data": {
            "text/plain": [
              "730"
            ]
          },
          "metadata": {},
          "execution_count": 46
        }
      ]
    },
    {
      "cell_type": "code",
      "source": [
        "kmeans_k2.get_feature_names_out()"
      ],
      "metadata": {
        "colab": {
          "base_uri": "https://localhost:8080/"
        },
        "id": "C-8dKb6wyqrt",
        "outputId": "f1613e11-3e38-4759-814d-26dfb07eb820"
      },
      "execution_count": 43,
      "outputs": [
        {
          "output_type": "execute_result",
          "data": {
            "text/plain": [
              "array(['kmeans0', 'kmeans1'], dtype=object)"
            ]
          },
          "metadata": {},
          "execution_count": 43
        }
      ]
    },
    {
      "cell_type": "code",
      "source": [
        "kmeans_k2."
      ],
      "metadata": {
        "colab": {
          "base_uri": "https://localhost:8080/",
          "height": 176
        },
        "id": "jGEkYVFoyviG",
        "outputId": "11f91341-500d-4ea1-8510-1881f4bbac76"
      },
      "execution_count": 44,
      "outputs": [
        {
          "output_type": "error",
          "ename": "TypeError",
          "evalue": "ignored",
          "traceback": [
            "\u001b[0;31m---------------------------------------------------------------------------\u001b[0m",
            "\u001b[0;31mTypeError\u001b[0m                                 Traceback (most recent call last)",
            "\u001b[0;32m<ipython-input-44-01b9cadd612d>\u001b[0m in \u001b[0;36m<cell line: 1>\u001b[0;34m()\u001b[0m\n\u001b[0;32m----> 1\u001b[0;31m \u001b[0mkmeans_k2\u001b[0m\u001b[0;34m[\u001b[0m\u001b[0;34m'kmeans0'\u001b[0m\u001b[0;34m]\u001b[0m\u001b[0;34m\u001b[0m\u001b[0;34m\u001b[0m\u001b[0m\n\u001b[0m",
            "\u001b[0;31mTypeError\u001b[0m: 'KMeans' object is not subscriptable"
          ]
        }
      ]
    },
    {
      "cell_type": "code",
      "source": [],
      "metadata": {
        "id": "dEcJEXo-y3cE"
      },
      "execution_count": null,
      "outputs": []
    }
  ]
}