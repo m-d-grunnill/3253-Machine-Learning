{
 "nbformat": 4,
 "nbformat_minor": 0,
 "metadata": {
  "colab": {
   "name": "W5_Homework.ipynb",
   "provenance": [],
   "collapsed_sections": [
    "UaFO-RM4F4YQ",
    "-qastIUuF4YT",
    "ATPrnjgCF4YY",
    "7LxVLPiYF4Yh",
    "2jjBUZuHF4Yk",
    "2rPoxsuaF4Yo",
    "i7C8iKxlF4Yq",
    "5_4XGtmFF4Yv",
    "dWg7waJKF4Yz",
    "5jDQEI4aF4Y3",
    "-cJC9qN3F4Y6",
    "ImbjaHG7F4Y_"
   ]
  },
  "kernelspec": {
   "display_name": "Python [default]",
   "language": "python",
   "name": "python3"
  }
 },
 "cells": [
  {
   "cell_type": "markdown",
   "metadata": {
    "id": "2tUHX52tF4X1",
    "colab_type": "text"
   },
   "source": [
    "## Assignment for Module 5, Training Models\n",
    "\n",
    "In this assignment you will train different models on a given data set, and find the one that performs best"
   ]
  },
  {
   "cell_type": "markdown",
   "metadata": {
    "id": "TBACajJAF4X2",
    "colab_type": "text"
   },
   "source": [
    "### Getting the data for the assignment (similar to the notebook from chapter 2 of Hands-On...)"
   ]
  },
  {
   "cell_type": "code",
   "metadata": {
    "id": "1k3UBfb2F4X3",
    "colab_type": "code",
    "colab": {}
   },
   "source": [
    "import os\n",
    "import tarfile\n",
    "from six.moves import urllib\n",
    "\n",
    "DOWNLOAD_ROOT = \"https://raw.githubusercontent.com/ageron/handson-ml/master/\"\n",
    "HOUSING_PATH = os.path.join(\"datasets\", \"housing\")\n",
    "HOUSING_URL = DOWNLOAD_ROOT + \"datasets/housing/housing.tgz\"\n",
    "\n",
    "def fetch_housing_data(housing_url=HOUSING_URL, housing_path=HOUSING_PATH):\n",
    "    if not os.path.isdir(housing_path):\n",
    "        os.makedirs(housing_path)\n",
    "    tgz_path = os.path.join(housing_path, \"housing.tgz\")\n",
    "    urllib.request.urlretrieve(housing_url, tgz_path)\n",
    "    housing_tgz = tarfile.open(tgz_path)\n",
    "    housing_tgz.extractall(path=housing_path)\n",
    "    housing_tgz.close()"
   ],
   "execution_count": 2,
   "outputs": []
  },
  {
   "cell_type": "code",
   "metadata": {
    "id": "uM5vyAxBF4X5",
    "colab_type": "code",
    "colab": {}
   },
   "source": [
    "fetch_housing_data()"
   ],
   "execution_count": 3,
   "outputs": []
  },
  {
   "cell_type": "code",
   "metadata": {
    "id": "pw_CY6LdF4X8",
    "colab_type": "code",
    "colab": {}
   },
   "source": [
    "import pandas as pd\n",
    "\n",
    "def load_housing_data(housing_path=HOUSING_PATH):\n",
    "    csv_path = os.path.join(housing_path, \"housing.csv\")\n",
    "    return pd.read_csv(csv_path)"
   ],
   "execution_count": 4,
   "outputs": []
  },
  {
   "cell_type": "code",
   "metadata": {
    "id": "95lsxBveF4X-",
    "colab_type": "code",
    "colab": {}
   },
   "source": [
    "housing = load_housing_data()\n",
    "(housing.size, len(housing.columns) )"
   ],
   "execution_count": 5,
   "outputs": [
    {
     "data": {
      "text/plain": "(206400, 10)"
     },
     "execution_count": 5,
     "metadata": {},
     "output_type": "execute_result"
    }
   ]
  },
  {
   "cell_type": "markdown",
   "metadata": {
    "id": "HrbmmdxBF4YA",
    "colab_type": "text"
   },
   "source": [
    "### Fix the categories in the categorical variable"
   ]
  },
  {
   "cell_type": "code",
   "metadata": {
    "id": "QyOHgLhzF4YA",
    "colab_type": "code",
    "colab": {}
   },
   "source": [
    "d = {'<1H OCEAN':'LESS_1H_OCEAN', 'INLAND':'INLAND', 'ISLAND':'ISLAND', 'NEAR BAY':'NEAR_BAY', 'NEAR OCEAN':'NEAR_OCEAN'}\n",
    "housing['ocean_proximity'] = housing['ocean_proximity'].map(lambda s: d[s])"
   ],
   "execution_count": 6,
   "outputs": []
  },
  {
   "cell_type": "markdown",
   "metadata": {
    "id": "RFADowUPF4YD",
    "colab_type": "text"
   },
   "source": [
    "### Add 2 more features"
   ]
  },
  {
   "cell_type": "code",
   "metadata": {
    "id": "rCvRIvaNF4YD",
    "colab_type": "code",
    "colab": {}
   },
   "source": [
    "housing[\"rooms_per_household\"] = housing[\"total_rooms\"]/housing[\"households\"]\n",
    "housing[\"population_per_household\"]=housing[\"population\"]/housing[\"households\"]"
   ],
   "execution_count": 7,
   "outputs": []
  },
  {
   "cell_type": "markdown",
   "metadata": {
    "id": "wq-lhhUVF4YF",
    "colab_type": "text"
   },
   "source": [
    "### Fix missing data"
   ]
  },
  {
   "cell_type": "code",
   "metadata": {
    "id": "857cBmTlF4YG",
    "colab_type": "code",
    "colab": {}
   },
   "source": [
    "median = housing[\"total_bedrooms\"].median()\n",
    "housing[\"total_bedrooms\"].fillna(median, inplace=True) "
   ],
   "execution_count": 8,
   "outputs": []
  },
  {
   "cell_type": "markdown",
   "metadata": {
    "id": "qD62mLewF4YJ",
    "colab_type": "text"
   },
   "source": [
    "### Create dummy variables based on the categorical variable"
   ]
  },
  {
   "cell_type": "code",
   "metadata": {
    "id": "Na_1d0RGF4YK",
    "colab_type": "code",
    "colab": {}
   },
   "source": [
    "one_hot = pd.get_dummies(housing['ocean_proximity'])\n",
    "housing = housing.drop('ocean_proximity', axis=1)\n",
    "housing = housing.join(one_hot)"
   ],
   "execution_count": 9,
   "outputs": []
  },
  {
   "cell_type": "markdown",
   "metadata": {
    "id": "kTPVdqn4F4YN",
    "colab_type": "text"
   },
   "source": [
    "### Check the data"
   ]
  },
  {
   "cell_type": "code",
   "metadata": {
    "colab_type": "code",
    "outputId": "6e914c17-9f6d-471d-dcd8-5d9b53f51a9b",
    "id": "8QsdjKqjtZQt",
    "executionInfo": {
     "status": "ok",
     "timestamp": 1571970648445,
     "user_tz": 240,
     "elapsed": 759,
     "user": {
      "displayName": "Saeid Abolfazli",
      "photoUrl": "",
      "userId": "03288941312928329554"
     }
    },
    "colab": {
     "base_uri": "https://localhost:8080/",
     "height": 390
    }
   },
   "source": [
    "housing.info()"
   ],
   "execution_count": 10,
   "outputs": [
    {
     "name": "stdout",
     "output_type": "stream",
     "text": [
      "<class 'pandas.core.frame.DataFrame'>\n",
      "RangeIndex: 20640 entries, 0 to 20639\n",
      "Data columns (total 16 columns):\n",
      " #   Column                    Non-Null Count  Dtype  \n",
      "---  ------                    --------------  -----  \n",
      " 0   longitude                 20640 non-null  float64\n",
      " 1   latitude                  20640 non-null  float64\n",
      " 2   housing_median_age        20640 non-null  float64\n",
      " 3   total_rooms               20640 non-null  float64\n",
      " 4   total_bedrooms            20640 non-null  float64\n",
      " 5   population                20640 non-null  float64\n",
      " 6   households                20640 non-null  float64\n",
      " 7   median_income             20640 non-null  float64\n",
      " 8   median_house_value        20640 non-null  float64\n",
      " 9   rooms_per_household       20640 non-null  float64\n",
      " 10  population_per_household  20640 non-null  float64\n",
      " 11  INLAND                    20640 non-null  bool   \n",
      " 12  ISLAND                    20640 non-null  bool   \n",
      " 13  LESS_1H_OCEAN             20640 non-null  bool   \n",
      " 14  NEAR_BAY                  20640 non-null  bool   \n",
      " 15  NEAR_OCEAN                20640 non-null  bool   \n",
      "dtypes: bool(5), float64(11)\n",
      "memory usage: 1.8 MB\n"
     ]
    }
   ]
  },
  {
   "cell_type": "markdown",
   "metadata": {
    "id": "YXW3dSMnF4YQ",
    "colab_type": "text"
   },
   "source": [
    "# ASSIGNMENT"
   ]
  },
  {
   "cell_type": "markdown",
   "metadata": {
    "id": "UaFO-RM4F4YQ",
    "colab_type": "text"
   },
   "source": [
    "### 1. Partition into train and test\n",
    "\n",
    "Use train_test_split from sklearn.model_selection to partition the dataset into 70% for training and 30% for testing.\n",
    "\n",
    "You can use the 70% for training set as both training and validation by using cross-validation.\n"
   ]
  },
  {
   "cell_type": "code",
   "metadata": {
    "id": "LpxuUsunF4YR",
    "colab_type": "code",
    "outputId": "aff08554-00e5-49d5-ddcc-a971de2a3f17",
    "executionInfo": {
     "status": "error",
     "timestamp": 1562174785324,
     "user_tz": 240,
     "elapsed": 1180,
     "user": {
      "displayName": "Saeid Abolfazli",
      "photoUrl": "",
      "userId": "03288941312928329554"
     }
    },
    "colab": {
     "base_uri": "https://localhost:8080/",
     "height": 130
    }
   },
   "source": [
    "from sklearn.model_selection import train_test_split\n",
    "train_set, test_set = train_test_split(housing,test_size=0.3,random_state=42)\n",
    "len(train_set)/len(housing)"
   ],
   "execution_count": 11,
   "outputs": [
    {
     "data": {
      "text/plain": "0.7"
     },
     "execution_count": 11,
     "metadata": {},
     "output_type": "execute_result"
    }
   ]
  },
  {
   "cell_type": "markdown",
   "metadata": {
    "id": "-qastIUuF4YT",
    "colab_type": "text"
   },
   "source": [
    "### Features"
   ]
  },
  {
   "cell_type": "code",
   "metadata": {
    "id": "fU7j7IXtF4YU",
    "colab_type": "code",
    "colab": {}
   },
   "source": [
    "target = 'median_house_value'\n",
    "features = list(train_set.columns)\n",
    "features = [f for f in features if f!=target]"
   ],
   "execution_count": 12,
   "outputs": []
  },
  {
   "cell_type": "code",
   "metadata": {
    "id": "YNpSVfsVF4YW",
    "colab_type": "code",
    "colab": {}
   },
   "source": [
    "X_tr = train_set[features]\n",
    "y_tr = train_set[[target]]\n",
    "\n",
    "X_te = test_set[features]\n",
    "y_te = test_set[[target]]"
   ],
   "execution_count": 13,
   "outputs": []
  },
  {
   "cell_type": "markdown",
   "metadata": {
    "id": "ATPrnjgCF4YY",
    "colab_type": "text"
   },
   "source": [
    "### 2. Polynomial transformations"
   ]
  },
  {
   "cell_type": "markdown",
   "metadata": {
    "id": "o2bkA5IiF4YY",
    "colab_type": "text"
   },
   "source": [
    "Use PolynomialFeatures from sklearn.preprocessing"
   ]
  },
  {
   "cell_type": "code",
   "metadata": {
    "id": "Z5vDs_O4F4Ya",
    "colab_type": "code",
    "colab": {}
   },
   "source": [
    "from sklearn.preprocessing import PolynomialFeatures\n",
    "poly = PolynomialFeatures(2)\n",
    "poly.fit(X_tr)\n",
    "X_tr = poly.fit_transform(X_tr)\n",
    "X_te = poly.fit_transform(X_te)"
   ],
   "execution_count": 14,
   "outputs": []
  },
  {
   "cell_type": "markdown",
   "metadata": {
    "id": "vwqAVP6MF4Yc",
    "colab_type": "text"
   },
   "source": [
    "##### You should obtain X_tr and X_te with 136 columns each, since originally you had 15 features.\n",
    "\n",
    "##### With m original features, the new added polynomial features of degree 2 are: $(m^2-m)/2+m+1$. Why?\n",
    "\n",
    "##### These, plus the original features gives a total of  $(m^2-m)/2+2m+1$"
   ]
  },
  {
   "cell_type": "code",
   "metadata": {
    "id": "5vDZwfMEF4Yd",
    "colab_type": "code",
    "colab": {}
   },
   "source": [
    "print(\"Original number of features: \"+str(len(features)))\n",
    "print(\"Final number of features: \"+str(X_tr.shape[1]))"
   ],
   "execution_count": 15,
   "outputs": [
    {
     "name": "stdout",
     "output_type": "stream",
     "text": [
      "Original number of features: 15\n",
      "Final number of features: 136\n"
     ]
    }
   ]
  },
  {
   "cell_type": "markdown",
   "metadata": {
    "id": "7LxVLPiYF4Yh",
    "colab_type": "text"
   },
   "source": [
    "### 3. Scaling features"
   ]
  },
  {
   "cell_type": "markdown",
   "metadata": {
    "id": "XbEpL-eHF4Yi",
    "colab_type": "text"
   },
   "source": [
    "Similarly, use StandardScaler from sklearn.preprocessing to normalize the training and testing data, using the training data"
   ]
  },
  {
   "cell_type": "code",
   "metadata": {
    "id": "KGzLl5PfF4Yi",
    "colab_type": "code",
    "colab": {}
   },
   "source": [
    "from sklearn.preprocessing import StandardScaler\n",
    "scaler = StandardScaler()\n",
    "scaler.fit(X_tr)\n",
    "X_tr = scaler.transform(X_tr)\n",
    "X_te = scaler.transform(X_te)"
   ],
   "execution_count": 16,
   "outputs": []
  },
  {
   "cell_type": "markdown",
   "metadata": {
    "id": "2jjBUZuHF4Yk",
    "colab_type": "text"
   },
   "source": [
    "#### Comparing models"
   ]
  },
  {
   "cell_type": "code",
   "metadata": {
    "id": "JdPmOxFWF4Yl",
    "colab_type": "code",
    "colab": {}
   },
   "source": [
    "from sklearn.model_selection import cross_val_score\n",
    "from sklearn.model_selection import GridSearchCV\n",
    "import numpy as np\n",
    "\n",
    "def display_scores(scores):\n",
    "    print(\"Scores:\", scores)\n",
    "    print(\"Mean:\", scores.mean())"
   ],
   "execution_count": 17,
   "outputs": []
  },
  {
   "cell_type": "markdown",
   "metadata": {
    "id": "2rPoxsuaF4Yo",
    "colab_type": "text"
   },
   "source": [
    "### 4. Linear regression on original features (no transformations) --- benchmark\n",
    "\n",
    "#### Your goal is to find the model that minimizes the rmse score"
   ]
  },
  {
   "cell_type": "code",
   "metadata": {
    "id": "HfrzQ5fcF4Yo",
    "colab_type": "code",
    "colab": {}
   },
   "source": [
    "from sklearn.linear_model import LinearRegression\n",
    "lin_scores = cross_val_score(LinearRegression(), train_set[features], train_set[target], scoring=\"neg_mean_squared_error\", cv=4)\n",
    "lin_rmse_scores = np.sqrt(-lin_scores)\n",
    "display_scores(lin_rmse_scores)"
   ],
   "execution_count": 18,
   "outputs": [
    {
     "name": "stdout",
     "output_type": "stream",
     "text": [
      "Scores: [70142.55721218 67456.39127204 67318.3258893  70866.26065275]\n",
      "Mean: 68945.88375656873\n"
     ]
    }
   ]
  },
  {
   "cell_type": "markdown",
   "metadata": {
    "id": "i7C8iKxlF4Yq",
    "colab_type": "text"
   },
   "source": [
    "### 5. Linear regression  (on transformed features: polynomial transformation + scaling)"
   ]
  },
  {
   "cell_type": "markdown",
   "metadata": {
    "id": "FBNvAgzPF4Yr",
    "colab_type": "text"
   },
   "source": [
    "Now do as in 4 but with the original and transformed features (136 features)"
   ]
  },
  {
   "cell_type": "code",
   "metadata": {
    "id": "vwCF3T-UF4Ys",
    "colab_type": "code",
    "colab": {}
   },
   "source": [
    "lin_scores = cross_val_score(LinearRegression(),\n",
    "                             X_tr,\n",
    "                             y_tr,\n",
    "                             scoring=\"neg_mean_squared_error\",\n",
    "                             cv=4)\n",
    "lin_rmse_scores = np.sqrt(-lin_scores)\n",
    "display_scores(lin_rmse_scores)\n"
   ],
   "execution_count": 19,
   "outputs": [
    {
     "name": "stdout",
     "output_type": "stream",
     "text": [
      "Scores: [4.74115143e+13 3.80197508e+14 1.20977671e+12 7.23416732e+13]\n",
      "Mean: 125290118035842.78\n"
     ]
    }
   ]
  },
  {
   "cell_type": "code",
   "execution_count": null,
   "outputs": [],
   "source": [],
   "metadata": {
    "collapsed": false
   }
  },
  {
   "cell_type": "markdown",
   "metadata": {
    "id": "9dehcVw3F4Yu",
    "colab_type": "text"
   },
   "source": [
    "If the error on the cross-validation is too high it is because the model is over-fitting. Regularization is needed."
   ]
  },
  {
   "cell_type": "markdown",
   "metadata": {
    "id": "5_4XGtmFF4Yv",
    "colab_type": "text"
   },
   "source": [
    "### 6. Ridge regression"
   ]
  },
  {
   "cell_type": "code",
   "metadata": {
    "id": "8NRXkacQF4Yv",
    "colab_type": "code",
    "colab": {}
   },
   "source": [
    "from sklearn.linear_model import Ridge\n",
    "param_grid = [{'alpha': [0.001,0.01,0.1,1,10,100,1000,1000]}]\n",
    "grid_search_rr = GridSearchCV(Ridge(), param_grid, cv=3, scoring='neg_mean_squared_error')\n",
    "grid_search_rr.fit(X_tr, y_tr)"
   ],
   "execution_count": null,
   "outputs": []
  },
  {
   "cell_type": "code",
   "metadata": {
    "id": "RxRHwN9eF4Yx",
    "colab_type": "code",
    "colab": {}
   },
   "source": [
    "print(grid_search_rr.best_params_)\n",
    "print(np.sqrt(-grid_search_rr.best_score_))"
   ],
   "execution_count": null,
   "outputs": []
  },
  {
   "cell_type": "markdown",
   "metadata": {
    "id": "dWg7waJKF4Yz",
    "colab_type": "text"
   },
   "source": [
    "### 7. Lasso regression\n",
    "\n",
    "Now do the same as in 6 but with Lasso"
   ]
  },
  {
   "cell_type": "code",
   "metadata": {
    "id": "o2n0rkctF4Y1",
    "colab_type": "code",
    "colab": {}
   },
   "source": [
    "## YOUR CODE HERE ##\n",
    "## YOUR CODE HERE ##\n",
    "## YOUR CODE HERE ##\n",
    "## YOUR CODE HERE ##\n",
    "## YOUR CODE HERE ##\n",
    "## YOUR CODE HERE ##"
   ],
   "execution_count": null,
   "outputs": []
  },
  {
   "cell_type": "markdown",
   "metadata": {
    "id": "5jDQEI4aF4Y3",
    "colab_type": "text"
   },
   "source": [
    "### 8. Elastic Net regression\n",
    "\n",
    "Do the same as in 6 and 7, but now with Elastic Net. However, the grid search should be over the parameters alpha and  l 1ratio. Use just 3 values for l1_ratio."
   ]
  },
  {
   "cell_type": "code",
   "metadata": {
    "id": "-TX_npVwF4Y4",
    "colab_type": "code",
    "colab": {}
   },
   "source": [
    "## YOUR CODE HERE ##\n",
    "## YOUR CODE HERE ##\n",
    "## YOUR CODE HERE ##\n",
    "## YOUR CODE HERE ##\n",
    "## YOUR CODE HERE ##\n",
    "## YOUR CODE HERE ##"
   ],
   "execution_count": null,
   "outputs": []
  },
  {
   "cell_type": "markdown",
   "metadata": {
    "id": "-cJC9qN3F4Y6",
    "colab_type": "text"
   },
   "source": [
    "### Evaluating your best model on TESTING data\n",
    "\n",
    "Choose among grid_search_rr, grid_search_lr, and grid_search_enr, the model with best performance"
   ]
  },
  {
   "cell_type": "code",
   "metadata": {
    "id": "cOSUoSUsF4Y7",
    "colab_type": "code",
    "colab": {}
   },
   "source": [
    "from sklearn.metrics import mean_squared_error\n",
    "\n",
    "final_model = grid_search.best_estimator_   ## grid_search SHOULD BE THE BEST GRID SEARCH ##\n",
    "\n",
    "y_te_estimation = final_model.predict(X_te)\n",
    "\n",
    "final_mse = mean_squared_error(y_te, y_te_estimation)\n",
    "final_rmse = np.sqrt(final_mse)\n",
    "print(final_rmse)"
   ],
   "execution_count": null,
   "outputs": []
  },
  {
   "cell_type": "code",
   "metadata": {
    "id": "eIvOOV6lF4Y9",
    "colab_type": "code",
    "colab": {}
   },
   "source": [
    "import matplotlib.pyplot as plt\n",
    "\n",
    "plt.scatter(x=y_te, y=y_te_estimation)\n",
    "plt.xlim([-200000,800000])\n",
    "plt.ylim([-200000,800000])\n",
    "plt.show()"
   ],
   "execution_count": null,
   "outputs": []
  },
  {
   "cell_type": "markdown",
   "metadata": {
    "id": "ImbjaHG7F4Y_",
    "colab_type": "text"
   },
   "source": [
    "### Question: Before you computed the final_rmse on the test data, what was your expected value for this quantity? Does your best model have high variance?"
   ]
  },
  {
   "cell_type": "markdown",
   "metadata": {
    "collapsed": true,
    "id": "dGL24wUDF4ZA",
    "colab_type": "text"
   },
   "source": [
    "##### YOUR ANSWER HERE "
   ]
  },
  {
   "cell_type": "code",
   "metadata": {
    "id": "ibr9P5MPF4ZA",
    "colab_type": "code",
    "colab": {}
   },
   "source": [],
   "execution_count": null,
   "outputs": []
  },
  {
   "cell_type": "code",
   "metadata": {
    "id": "YGSrQ6nzF4ZE",
    "colab_type": "code",
    "colab": {}
   },
   "source": [],
   "execution_count": null,
   "outputs": []
  },
  {
   "cell_type": "markdown",
   "metadata": {
    "id": "9HpY_Cn5F4ZF",
    "colab_type": "text"
   },
   "source": [
    "#[Optional]\n",
    "Why does the matrix X appears transponsed in the normal equation in the linear regression? Equation 4.4. Start from equation 4.3\n",
    "\n"
   ]
  },
  {
   "cell_type": "code",
   "metadata": {
    "id": "joLK71WAF4ZG",
    "colab_type": "code",
    "colab": {}
   },
   "source": [],
   "execution_count": null,
   "outputs": []
  },
  {
   "cell_type": "markdown",
   "metadata": {
    "id": "RWpjzDr-F4ZI",
    "colab_type": "text"
   },
   "source": [
    "#[Optional]\n",
    "Do all Gradient Descent algorithms lead to the same model provided you let them run long enough?\n",
    "\n"
   ]
  },
  {
   "cell_type": "code",
   "metadata": {
    "id": "tvJTrvGYF4ZI",
    "colab_type": "code",
    "colab": {}
   },
   "source": [],
   "execution_count": null,
   "outputs": []
  },
  {
   "cell_type": "markdown",
   "metadata": {
    "id": "Cc2htTEMF4ZK",
    "colab_type": "text"
   },
   "source": [
    "#[Optional]\n",
    "Is it a good idea to stop Mini-batch Gradient Descent immediately when the validation error goes up?\n",
    "\n"
   ]
  },
  {
   "cell_type": "code",
   "metadata": {
    "id": "WkkWmvlnF4ZL",
    "colab_type": "code",
    "colab": {}
   },
   "source": [],
   "execution_count": null,
   "outputs": []
  },
  {
   "cell_type": "markdown",
   "metadata": {
    "id": "uPnLkfrwF4ZO",
    "colab_type": "text"
   },
   "source": [
    "#[Optional]\n",
    "Suppose you are using Ridge Regression and you notice that the training error and the validation error are almost equal and fairly high. Would you say that the model suffers from high bias or high variance? Should you increase the regularization hyperparameter α or reduce it?\n",
    "\n"
   ]
  },
  {
   "cell_type": "code",
   "metadata": {
    "id": "ZmPwGiP7F4ZP",
    "colab_type": "code",
    "colab": {}
   },
   "source": [],
   "execution_count": null,
   "outputs": []
  },
  {
   "cell_type": "markdown",
   "metadata": {
    "id": "K4vJjWbjF4ZQ",
    "colab_type": "text"
   },
   "source": [
    "#[Optional]\n",
    "Why does the matrix X appears transponsed in the normal equation in the linear regression? Equation 4.4. Start from equation 4.3\n",
    "\n"
   ]
  },
  {
   "cell_type": "code",
   "metadata": {
    "id": "q5fOpdZGF4ZR",
    "colab_type": "code",
    "colab": {}
   },
   "source": [],
   "execution_count": null,
   "outputs": []
  }
 ]
}
